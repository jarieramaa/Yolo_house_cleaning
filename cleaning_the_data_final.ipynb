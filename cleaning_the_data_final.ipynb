{
 "cells": [
  {
   "cell_type": "markdown",
   "id": "0bc7145f",
   "metadata": {},
   "source": [
    "# Housing data cleaning\n"
   ]
  },
  {
   "cell_type": "markdown",
   "id": "5b7d0e24",
   "metadata": {},
   "source": [
    "### THE QUESTIONS\n",
    "##### You must be able to answer :\n",
    "1. Which variable is the target ? -> Price\n",
    "2. How many rows and columns ?\n",
    "3. What is the correlation between the variables and the target ? (Why might that be?)\n",
    "4. What is the correlation between the variables and the other variables ? (Why?)\n",
    "5. Which variables have the greatest influence on the target ?\n",
    "6. Which variables have the least influence on the target ?\n",
    "7. How many qualitative and quantitative variables are there ? How would you transform these values into numerical values ?\n",
    "8. Percentage of missing values per column ?"
   ]
  },
  {
   "cell_type": "code",
   "execution_count": 263,
   "id": "3833103a",
   "metadata": {},
   "outputs": [],
   "source": [
    "import pandas as pd\n",
    "import pickle\n",
    "import matplotlib.pyplot as plt\n",
    "import numpy as np\n",
    "import seaborn as sns\n",
    "from pathlib import Path \n",
    "import os\n",
    "\n",
    "\n"
   ]
  },
  {
   "cell_type": "code",
   "execution_count": 264,
   "id": "765fca76",
   "metadata": {},
   "outputs": [
    {
     "name": "stdout",
     "output_type": "stream",
     "text": [
      "<class 'pandas.core.frame.DataFrame'>\n"
     ]
    },
    {
     "data": {
      "text/plain": [
       "(14625, 112)"
      ]
     },
     "execution_count": 264,
     "metadata": {},
     "output_type": "execute_result"
    }
   ],
   "source": [
    "def read_df(filename: str) -> pd.DataFrame:\n",
    "    \"\"\"Reads a DataFrame from a binary file \n",
    "    :return: A DataFrame that contains all the data from ImmoWeb properties \"\"\"\n",
    "    open_file = open(filename, \"rb\")\n",
    "    loaded_data = pickle.load(open_file)\n",
    "    print(type(loaded_data))\n",
    "    open_file.close()\n",
    "    return loaded_data\n",
    "\n",
    "houses = read_df(\"./data/housing_data.df\")\n",
    "houses.shape"
   ]
  },
  {
   "cell_type": "code",
   "execution_count": 265,
   "id": "92ce38d6",
   "metadata": {},
   "outputs": [
    {
     "data": {
      "text/plain": [
       "112"
      ]
     },
     "execution_count": 265,
     "metadata": {},
     "output_type": "execute_result"
    }
   ],
   "source": [
    "len(houses.columns)"
   ]
  },
  {
   "cell_type": "markdown",
   "id": "6de92501",
   "metadata": {},
   "source": [
    "## Then calculate again the number of columns"
   ]
  },
  {
   "cell_type": "code",
   "execution_count": 266,
   "id": "726712b3",
   "metadata": {},
   "outputs": [
    {
     "data": {
      "text/plain": [
       "112"
      ]
     },
     "execution_count": 266,
     "metadata": {},
     "output_type": "execute_result"
    }
   ],
   "source": [
    "len(houses.columns)"
   ]
  },
  {
   "cell_type": "code",
   "execution_count": 267,
   "id": "73a63df5",
   "metadata": {},
   "outputs": [
    {
     "data": {
      "text/plain": [
       "\"houses = houses[[\\n    'Immoweb ID', 'Property type', 'property sub-type', 'Price',\\n    'Price (sr only)', 'Price HTML', 'Post code', 'Building condition',\\n    'Kitchen type', 'Bedrooms', 'Furnished', 'Terrace', 'Terrace surface',\\n    'Tenement building', 'Number of frontages', 'Swimming pool', 'Garden',\\n    'Garden surface', 'Surface of the plot', 'Living area', 'Elevator',\\n    'Energy class', 'Heating type', 'url address', 'Construction year'\\n]]\\nhouses.head(2)\""
      ]
     },
     "execution_count": 267,
     "metadata": {},
     "output_type": "execute_result"
    }
   ],
   "source": [
    "\"\"\"houses = houses[[\n",
    "    'Immoweb ID', 'Property type', 'property sub-type', 'Price',\n",
    "    'Price (sr only)', 'Price HTML', 'Post code', 'Building condition',\n",
    "    'Kitchen type', 'Bedrooms', 'Furnished', 'Terrace', 'Terrace surface',\n",
    "    'Tenement building', 'Number of frontages', 'Swimming pool', 'Garden',\n",
    "    'Garden surface', 'Surface of the plot', 'Living area', 'Elevator',\n",
    "    'Energy class', 'Heating type', 'url address', 'Construction year'\n",
    "]]\n",
    "houses.head(2)\"\"\""
   ]
  },
  {
   "cell_type": "markdown",
   "id": "2b30b29b",
   "metadata": {},
   "source": [
    "## 1. Price\n"
   ]
  },
  {
   "cell_type": "markdown",
   "id": "3df3ed53",
   "metadata": {},
   "source": [
    "### Removing empty sales values and rows with price range"
   ]
  },
  {
   "cell_type": "markdown",
   "id": "72b88232",
   "metadata": {},
   "source": []
  },
  {
   "cell_type": "markdown",
   "id": "984e6934",
   "metadata": {},
   "source": [
    "Number of rows before"
   ]
  },
  {
   "cell_type": "code",
   "execution_count": 268,
   "id": "e6e90a43",
   "metadata": {},
   "outputs": [
    {
     "data": {
      "text/plain": [
       "14625"
      ]
     },
     "execution_count": 268,
     "metadata": {},
     "output_type": "execute_result"
    }
   ],
   "source": [
    "houses['Immoweb ID'].count()"
   ]
  },
  {
   "cell_type": "markdown",
   "id": "a7e0f1b2",
   "metadata": {},
   "source": [
    "Count rows to remove"
   ]
  },
  {
   "cell_type": "code",
   "execution_count": 269,
   "id": "2ab8ff2e",
   "metadata": {},
   "outputs": [
    {
     "data": {
      "text/plain": [
       "1132"
      ]
     },
     "execution_count": 269,
     "metadata": {},
     "output_type": "execute_result"
    }
   ],
   "source": [
    "houses['Immoweb ID'].loc[houses['Price']!= houses['Price (sr only)']].count()"
   ]
  },
  {
   "cell_type": "markdown",
   "id": "78b2241d",
   "metadata": {},
   "source": [
    "#### Remove the rows"
   ]
  },
  {
   "cell_type": "code",
   "execution_count": 270,
   "id": "920b59de",
   "metadata": {},
   "outputs": [],
   "source": [
    "houses = houses.loc[houses['Price']== houses['Price (sr only)']]"
   ]
  },
  {
   "cell_type": "markdown",
   "id": "c1dbff34",
   "metadata": {},
   "source": [
    "Rows after the remove"
   ]
  },
  {
   "cell_type": "code",
   "execution_count": 271,
   "id": "6b3debc2",
   "metadata": {},
   "outputs": [
    {
     "data": {
      "text/plain": [
       "13493"
      ]
     },
     "execution_count": 271,
     "metadata": {},
     "output_type": "execute_result"
    }
   ],
   "source": [
    "houses['Immoweb ID'].count()"
   ]
  },
  {
   "cell_type": "markdown",
   "id": "dcb68b17",
   "metadata": {},
   "source": [
    "Convert the values to integers and check that it really happened"
   ]
  },
  {
   "cell_type": "code",
   "execution_count": 272,
   "id": "7210847b",
   "metadata": {},
   "outputs": [],
   "source": [
    "houses['Price'] = houses['Price'].astype('int')"
   ]
  },
  {
   "cell_type": "code",
   "execution_count": 273,
   "id": "873864d1",
   "metadata": {},
   "outputs": [
    {
     "data": {
      "text/plain": [
       "Price    int64\n",
       "dtype: object"
      ]
     },
     "execution_count": 273,
     "metadata": {},
     "output_type": "execute_result"
    }
   ],
   "source": [
    "houses[['Price']].dtypes"
   ]
  },
  {
   "cell_type": "code",
   "execution_count": 274,
   "id": "980775bc",
   "metadata": {},
   "outputs": [
    {
     "data": {
      "text/plain": [
       "(13493, 112)"
      ]
     },
     "execution_count": 274,
     "metadata": {},
     "output_type": "execute_result"
    }
   ],
   "source": [
    "houses.shape"
   ]
  },
  {
   "cell_type": "markdown",
   "id": "232b3537",
   "metadata": {},
   "source": [
    "## 2. Living area"
   ]
  },
  {
   "cell_type": "markdown",
   "id": "cfbfc45a",
   "metadata": {},
   "source": [
    "#### Remove the rows that has no 'living area' information (and set the type to int)"
   ]
  },
  {
   "cell_type": "code",
   "execution_count": 275,
   "id": "f9bec165",
   "metadata": {},
   "outputs": [],
   "source": [
    "houses = houses.loc[pd.notna(houses['Living area'])]\n",
    "houses['Living area'] = houses['Living area'].astype('int')"
   ]
  },
  {
   "cell_type": "code",
   "execution_count": 276,
   "id": "521d3c2d",
   "metadata": {},
   "outputs": [
    {
     "data": {
      "text/plain": [
       "11446"
      ]
     },
     "execution_count": 276,
     "metadata": {},
     "output_type": "execute_result"
    }
   ],
   "source": [
    "houses['Immoweb ID'].count()"
   ]
  },
  {
   "cell_type": "markdown",
   "id": "a0f14e02",
   "metadata": {},
   "source": [
    "## 3. Price / Square meter (eur/m2)"
   ]
  },
  {
   "cell_type": "markdown",
   "id": "aff1b9e7",
   "metadata": {},
   "source": [
    "#### Let's rename 'Price (sr only)' to 'Eur/m2'"
   ]
  },
  {
   "cell_type": "code",
   "execution_count": 277,
   "id": "b48b2c4c",
   "metadata": {},
   "outputs": [
    {
     "data": {
      "text/html": [
       "<div>\n",
       "<style scoped>\n",
       "    .dataframe tbody tr th:only-of-type {\n",
       "        vertical-align: middle;\n",
       "    }\n",
       "\n",
       "    .dataframe tbody tr th {\n",
       "        vertical-align: top;\n",
       "    }\n",
       "\n",
       "    .dataframe thead th {\n",
       "        text-align: right;\n",
       "    }\n",
       "</style>\n",
       "<table border=\"1\" class=\"dataframe\">\n",
       "  <thead>\n",
       "    <tr style=\"text-align: right;\">\n",
       "      <th></th>\n",
       "      <th>Immoweb ID</th>\n",
       "      <th>Property type</th>\n",
       "      <th>property sub-type</th>\n",
       "      <th>Price</th>\n",
       "      <th>Eur/m2</th>\n",
       "      <th>Price HTML</th>\n",
       "      <th>Post code</th>\n",
       "      <th>Available as of</th>\n",
       "      <th>Property name</th>\n",
       "      <th>Construction year</th>\n",
       "      <th>...</th>\n",
       "      <th>Professional space surface</th>\n",
       "      <th>Land is facing street</th>\n",
       "      <th>Flat land</th>\n",
       "      <th>Current monthly revenue</th>\n",
       "      <th>Wooded land</th>\n",
       "      <th>Plot at rear</th>\n",
       "      <th>Percentage rented</th>\n",
       "      <th>EPC description</th>\n",
       "      <th>Venue of the sale</th>\n",
       "      <th>Date of the sale</th>\n",
       "    </tr>\n",
       "  </thead>\n",
       "  <tbody>\n",
       "    <tr>\n",
       "      <th>0</th>\n",
       "      <td>9739983</td>\n",
       "      <td>APARTMENT</td>\n",
       "      <td>PENTHOUSE</td>\n",
       "      <td>476000</td>\n",
       "      <td>476000</td>\n",
       "      <td>\\n€476,000 476000€\\n</td>\n",
       "      <td>1130</td>\n",
       "      <td>After signing the deed</td>\n",
       "      <td>MIDDLE WAY</td>\n",
       "      <td>2017</td>\n",
       "      <td>...</td>\n",
       "      <td>NaN</td>\n",
       "      <td>NaN</td>\n",
       "      <td>NaN</td>\n",
       "      <td>NaN</td>\n",
       "      <td>NaN</td>\n",
       "      <td>NaN</td>\n",
       "      <td>NaN</td>\n",
       "      <td>NaN</td>\n",
       "      <td>NaN</td>\n",
       "      <td>NaN</td>\n",
       "    </tr>\n",
       "  </tbody>\n",
       "</table>\n",
       "<p>1 rows × 112 columns</p>\n",
       "</div>"
      ],
      "text/plain": [
       "  Immoweb ID Property type property sub-type   Price  Eur/m2  \\\n",
       "0    9739983     APARTMENT         PENTHOUSE  476000  476000   \n",
       "\n",
       "             Price HTML Post code         Available as of Property name  \\\n",
       "0  \\n€476,000 476000€\\n      1130  After signing the deed    MIDDLE WAY   \n",
       "\n",
       "  Construction year  ... Professional space surface Land is facing street  \\\n",
       "0              2017  ...                        NaN                   NaN   \n",
       "\n",
       "  Flat land Current monthly revenue Wooded land  Plot at rear  \\\n",
       "0       NaN                     NaN         NaN           NaN   \n",
       "\n",
       "  Percentage rented EPC description Venue of the sale Date of the sale  \n",
       "0               NaN             NaN               NaN              NaN  \n",
       "\n",
       "[1 rows x 112 columns]"
      ]
     },
     "execution_count": 277,
     "metadata": {},
     "output_type": "execute_result"
    }
   ],
   "source": [
    "houses = houses.rename(columns={'Price (sr only)': 'Eur/m2'})\n",
    "houses.head(1)\n"
   ]
  },
  {
   "cell_type": "markdown",
   "id": "450f9c1b",
   "metadata": {},
   "source": [
    "#### Calculate the price/m2"
   ]
  },
  {
   "cell_type": "code",
   "execution_count": 278,
   "id": "6e409bda",
   "metadata": {},
   "outputs": [],
   "source": [
    "houses['Eur/m2'] = (houses['Price'])/(houses['Living area'])\n"
   ]
  },
  {
   "cell_type": "code",
   "execution_count": 279,
   "id": "900fb9ca",
   "metadata": {},
   "outputs": [
    {
     "data": {
      "text/html": [
       "<div>\n",
       "<style scoped>\n",
       "    .dataframe tbody tr th:only-of-type {\n",
       "        vertical-align: middle;\n",
       "    }\n",
       "\n",
       "    .dataframe tbody tr th {\n",
       "        vertical-align: top;\n",
       "    }\n",
       "\n",
       "    .dataframe thead th {\n",
       "        text-align: right;\n",
       "    }\n",
       "</style>\n",
       "<table border=\"1\" class=\"dataframe\">\n",
       "  <thead>\n",
       "    <tr style=\"text-align: right;\">\n",
       "      <th></th>\n",
       "      <th>Immoweb ID</th>\n",
       "      <th>Property type</th>\n",
       "      <th>property sub-type</th>\n",
       "      <th>Price</th>\n",
       "      <th>Eur/m2</th>\n",
       "      <th>Price HTML</th>\n",
       "      <th>Post code</th>\n",
       "      <th>Available as of</th>\n",
       "      <th>Property name</th>\n",
       "      <th>Construction year</th>\n",
       "      <th>...</th>\n",
       "      <th>Professional space surface</th>\n",
       "      <th>Land is facing street</th>\n",
       "      <th>Flat land</th>\n",
       "      <th>Current monthly revenue</th>\n",
       "      <th>Wooded land</th>\n",
       "      <th>Plot at rear</th>\n",
       "      <th>Percentage rented</th>\n",
       "      <th>EPC description</th>\n",
       "      <th>Venue of the sale</th>\n",
       "      <th>Date of the sale</th>\n",
       "    </tr>\n",
       "  </thead>\n",
       "  <tbody>\n",
       "    <tr>\n",
       "      <th>0</th>\n",
       "      <td>9739983</td>\n",
       "      <td>APARTMENT</td>\n",
       "      <td>PENTHOUSE</td>\n",
       "      <td>476000</td>\n",
       "      <td>3051.282051</td>\n",
       "      <td>\\n€476,000 476000€\\n</td>\n",
       "      <td>1130</td>\n",
       "      <td>After signing the deed</td>\n",
       "      <td>MIDDLE WAY</td>\n",
       "      <td>2017</td>\n",
       "      <td>...</td>\n",
       "      <td>NaN</td>\n",
       "      <td>NaN</td>\n",
       "      <td>NaN</td>\n",
       "      <td>NaN</td>\n",
       "      <td>NaN</td>\n",
       "      <td>NaN</td>\n",
       "      <td>NaN</td>\n",
       "      <td>NaN</td>\n",
       "      <td>NaN</td>\n",
       "      <td>NaN</td>\n",
       "    </tr>\n",
       "  </tbody>\n",
       "</table>\n",
       "<p>1 rows × 112 columns</p>\n",
       "</div>"
      ],
      "text/plain": [
       "  Immoweb ID Property type property sub-type   Price       Eur/m2  \\\n",
       "0    9739983     APARTMENT         PENTHOUSE  476000  3051.282051   \n",
       "\n",
       "             Price HTML Post code         Available as of Property name  \\\n",
       "0  \\n€476,000 476000€\\n      1130  After signing the deed    MIDDLE WAY   \n",
       "\n",
       "  Construction year  ... Professional space surface Land is facing street  \\\n",
       "0              2017  ...                        NaN                   NaN   \n",
       "\n",
       "  Flat land Current monthly revenue Wooded land  Plot at rear  \\\n",
       "0       NaN                     NaN         NaN           NaN   \n",
       "\n",
       "  Percentage rented EPC description Venue of the sale Date of the sale  \n",
       "0               NaN             NaN               NaN              NaN  \n",
       "\n",
       "[1 rows x 112 columns]"
      ]
     },
     "execution_count": 279,
     "metadata": {},
     "output_type": "execute_result"
    }
   ],
   "source": [
    "houses.head(1)"
   ]
  },
  {
   "cell_type": "markdown",
   "id": "cf91a681",
   "metadata": {},
   "source": [
    "## 4. The Building Condition"
   ]
  },
  {
   "cell_type": "code",
   "execution_count": 280,
   "id": "714405dd",
   "metadata": {
    "scrolled": true
   },
   "outputs": [
    {
     "data": {
      "text/html": [
       "<div>\n",
       "<style scoped>\n",
       "    .dataframe tbody tr th:only-of-type {\n",
       "        vertical-align: middle;\n",
       "    }\n",
       "\n",
       "    .dataframe tbody tr th {\n",
       "        vertical-align: top;\n",
       "    }\n",
       "\n",
       "    .dataframe thead th {\n",
       "        text-align: right;\n",
       "    }\n",
       "</style>\n",
       "<table border=\"1\" class=\"dataframe\">\n",
       "  <thead>\n",
       "    <tr style=\"text-align: right;\">\n",
       "      <th></th>\n",
       "      <th>Immoweb ID</th>\n",
       "    </tr>\n",
       "    <tr>\n",
       "      <th>Building condition</th>\n",
       "      <th></th>\n",
       "    </tr>\n",
       "  </thead>\n",
       "  <tbody>\n",
       "    <tr>\n",
       "      <th>As new</th>\n",
       "      <td>3526</td>\n",
       "    </tr>\n",
       "    <tr>\n",
       "      <th>Good</th>\n",
       "      <td>3114</td>\n",
       "    </tr>\n",
       "    <tr>\n",
       "      <th>Just renovated</th>\n",
       "      <td>538</td>\n",
       "    </tr>\n",
       "    <tr>\n",
       "      <th>To be done up</th>\n",
       "      <td>743</td>\n",
       "    </tr>\n",
       "    <tr>\n",
       "      <th>To renovate</th>\n",
       "      <td>755</td>\n",
       "    </tr>\n",
       "    <tr>\n",
       "      <th>To restore</th>\n",
       "      <td>71</td>\n",
       "    </tr>\n",
       "  </tbody>\n",
       "</table>\n",
       "</div>"
      ],
      "text/plain": [
       "                    Immoweb ID\n",
       "Building condition            \n",
       "As new                    3526\n",
       "Good                      3114\n",
       "Just renovated             538\n",
       "To be done up              743\n",
       "To renovate                755\n",
       "To restore                  71"
      ]
     },
     "execution_count": 280,
     "metadata": {},
     "output_type": "execute_result"
    }
   ],
   "source": [
    "houses.groupby(['Building condition']).count().iloc[:,:1]\n"
   ]
  },
  {
   "cell_type": "code",
   "execution_count": 281,
   "id": "d859ea0c",
   "metadata": {},
   "outputs": [],
   "source": [
    "houses = houses.loc[pd.notna(houses['Building condition'])]"
   ]
  },
  {
   "cell_type": "code",
   "execution_count": 282,
   "id": "74082031",
   "metadata": {},
   "outputs": [
    {
     "data": {
      "text/plain": [
       "0"
      ]
     },
     "execution_count": 282,
     "metadata": {},
     "output_type": "execute_result"
    }
   ],
   "source": [
    "houses['Immoweb ID'].loc[pd.isna(houses['Building condition'])].count()"
   ]
  },
  {
   "cell_type": "code",
   "execution_count": 283,
   "id": "dcff6b10",
   "metadata": {},
   "outputs": [],
   "source": [
    "def building_condition_conv(value : str) -> int:\n",
    "    if pd.isna(value) or pd.isnull(value):\n",
    "        return value\n",
    "    elif value == 'As new' or value == 'Just renovated':\n",
    "        return 4\n",
    "    elif value == 'Good':\n",
    "        return 3\n",
    "    elif value == 'To be done up':\n",
    "        return 2\n",
    "    elif value == 'To renovate':\n",
    "        return 1\n",
    "    elif value == 'To restore':\n",
    "        return 0\n",
    "    else:\n",
    "        return value\n",
    "    \n",
    "houses['Building condition'] = houses['Building condition'].apply(building_condition_conv)\n",
    "\n"
   ]
  },
  {
   "cell_type": "code",
   "execution_count": 284,
   "id": "aac0ce99",
   "metadata": {},
   "outputs": [
    {
     "data": {
      "text/plain": [
       "Immoweb ID           8747\n",
       "Property type        8747\n",
       "property sub-type    8747\n",
       "Price                8747\n",
       "Eur/m2               8747\n",
       "                     ... \n",
       "Plot at rear          627\n",
       "Percentage rented      68\n",
       "EPC description         7\n",
       "Venue of the sale       0\n",
       "Date of the sale        0\n",
       "Length: 112, dtype: int64"
      ]
     },
     "execution_count": 284,
     "metadata": {},
     "output_type": "execute_result"
    }
   ],
   "source": [
    "houses.count()\n",
    "\n"
   ]
  },
  {
   "cell_type": "markdown",
   "id": "1d685fa7",
   "metadata": {},
   "source": [
    "## Remove the duplicates (Jari)"
   ]
  },
  {
   "cell_type": "markdown",
   "id": "dadbcbca",
   "metadata": {},
   "source": [
    "#### It seems that there are no more duplicates after fixing the price issues and removing the properties without any living area information."
   ]
  },
  {
   "cell_type": "code",
   "execution_count": 285,
   "id": "1ecdf730",
   "metadata": {},
   "outputs": [
    {
     "data": {
      "text/plain": [
       "8747"
      ]
     },
     "execution_count": 285,
     "metadata": {},
     "output_type": "execute_result"
    }
   ],
   "source": [
    "houses['Immoweb ID'].count() #11446 rows, 25 cols\n",
    "\n"
   ]
  },
  {
   "cell_type": "code",
   "execution_count": 286,
   "id": "f3f77229",
   "metadata": {},
   "outputs": [
    {
     "data": {
      "text/plain": [
       "8747"
      ]
     },
     "execution_count": 286,
     "metadata": {},
     "output_type": "execute_result"
    }
   ],
   "source": [
    "houses.drop_duplicates(subset=['Immoweb ID']) # No duplicates any more!\n",
    "houses['Immoweb ID'].count() #11446 rows, 25 cols"
   ]
  },
  {
   "cell_type": "markdown",
   "id": "08de927d",
   "metadata": {},
   "source": [
    "## EXTRA (Mission objectives: be able to think outside the box.)"
   ]
  },
  {
   "cell_type": "markdown",
   "id": "9d5edabe",
   "metadata": {},
   "source": [
    "Here is the idea: let's use as many columns as possible. For example, if a property has 'swimming pool' it could get 10 points. It an apartment has a elevator it makes for ex. 5 points and so on. All of these points will be sum up and normilized (scale would be from 0 to 5)\n",
    "\n",
    "PROs\n",
    "+ Coverage is high (100%)\n",
    "+ We could get some benefit from the values like garden, terrace, full eguip kitchen and so on\n",
    "+ Out of Box solution (that was requested in the task)\n",
    "\n",
    "\n",
    "CONs\n",
    "- some work to do (convert all the columns that will be used)\n",
    "\n"
   ]
  },
  {
   "cell_type": "markdown",
   "id": "16f7e439",
   "metadata": {},
   "source": [
    "## 5. Swimming pool"
   ]
  },
  {
   "cell_type": "code",
   "execution_count": 287,
   "id": "00869de0",
   "metadata": {},
   "outputs": [
    {
     "data": {
      "text/html": [
       "<div>\n",
       "<style scoped>\n",
       "    .dataframe tbody tr th:only-of-type {\n",
       "        vertical-align: middle;\n",
       "    }\n",
       "\n",
       "    .dataframe tbody tr th {\n",
       "        vertical-align: top;\n",
       "    }\n",
       "\n",
       "    .dataframe thead th {\n",
       "        text-align: right;\n",
       "    }\n",
       "</style>\n",
       "<table border=\"1\" class=\"dataframe\">\n",
       "  <thead>\n",
       "    <tr style=\"text-align: right;\">\n",
       "      <th></th>\n",
       "      <th>Immoweb ID</th>\n",
       "    </tr>\n",
       "    <tr>\n",
       "      <th>Swimming pool</th>\n",
       "      <th></th>\n",
       "    </tr>\n",
       "  </thead>\n",
       "  <tbody>\n",
       "    <tr>\n",
       "      <th>No</th>\n",
       "      <td>3040</td>\n",
       "    </tr>\n",
       "    <tr>\n",
       "      <th>Yes</th>\n",
       "      <td>420</td>\n",
       "    </tr>\n",
       "  </tbody>\n",
       "</table>\n",
       "</div>"
      ],
      "text/plain": [
       "               Immoweb ID\n",
       "Swimming pool            \n",
       "No                   3040\n",
       "Yes                   420"
      ]
     },
     "execution_count": 287,
     "metadata": {},
     "output_type": "execute_result"
    }
   ],
   "source": [
    "houses.groupby(['Swimming pool']).count().iloc[:,:1]\n",
    "\n"
   ]
  },
  {
   "cell_type": "code",
   "execution_count": 288,
   "id": "13724851",
   "metadata": {},
   "outputs": [
    {
     "data": {
      "text/plain": [
       "5287"
      ]
     },
     "execution_count": 288,
     "metadata": {},
     "output_type": "execute_result"
    }
   ],
   "source": [
    "houses['Immoweb ID'].loc[pd.isna(houses['Swimming pool'])].count()\n"
   ]
  },
  {
   "cell_type": "markdown",
   "id": "dadb8364",
   "metadata": {},
   "source": [
    "A Swimming pool 10 points!   No: 3568, Yes: 502, NaN: 7376"
   ]
  },
  {
   "cell_type": "code",
   "execution_count": 289,
   "id": "962f0e6a",
   "metadata": {},
   "outputs": [],
   "source": [
    "def swimming_pool(value: str) -> int:\n",
    "    if pd.isna(value) or pd.isnull(value):\n",
    "        return value\n",
    "    elif value == 'Yes' or value == '10.0': #ten is there for the case that this code is re-run\n",
    "        return 10\n",
    "    elif value == 'No' or value == '0.0': #ten is there for the case that this code is re-run\n",
    "        return 0\n",
    "    else:\n",
    "        return 3 \n",
    "\n",
    "\n",
    "houses['Swimming pool'] = houses['Swimming pool'].apply(swimming_pool)"
   ]
  },
  {
   "cell_type": "code",
   "execution_count": 290,
   "id": "0b4f0432",
   "metadata": {},
   "outputs": [
    {
     "data": {
      "text/html": [
       "<div>\n",
       "<style scoped>\n",
       "    .dataframe tbody tr th:only-of-type {\n",
       "        vertical-align: middle;\n",
       "    }\n",
       "\n",
       "    .dataframe tbody tr th {\n",
       "        vertical-align: top;\n",
       "    }\n",
       "\n",
       "    .dataframe thead th {\n",
       "        text-align: right;\n",
       "    }\n",
       "</style>\n",
       "<table border=\"1\" class=\"dataframe\">\n",
       "  <thead>\n",
       "    <tr style=\"text-align: right;\">\n",
       "      <th></th>\n",
       "      <th>Immoweb ID</th>\n",
       "      <th>Property type</th>\n",
       "      <th>property sub-type</th>\n",
       "      <th>Price</th>\n",
       "      <th>Eur/m2</th>\n",
       "      <th>Price HTML</th>\n",
       "      <th>Post code</th>\n",
       "      <th>Available as of</th>\n",
       "      <th>Property name</th>\n",
       "      <th>Construction year</th>\n",
       "      <th>...</th>\n",
       "      <th>Professional space surface</th>\n",
       "      <th>Land is facing street</th>\n",
       "      <th>Flat land</th>\n",
       "      <th>Current monthly revenue</th>\n",
       "      <th>Wooded land</th>\n",
       "      <th>Plot at rear</th>\n",
       "      <th>Percentage rented</th>\n",
       "      <th>EPC description</th>\n",
       "      <th>Venue of the sale</th>\n",
       "      <th>Date of the sale</th>\n",
       "    </tr>\n",
       "  </thead>\n",
       "  <tbody>\n",
       "    <tr>\n",
       "      <th>0</th>\n",
       "      <td>9739983</td>\n",
       "      <td>APARTMENT</td>\n",
       "      <td>PENTHOUSE</td>\n",
       "      <td>476000</td>\n",
       "      <td>3051.282051</td>\n",
       "      <td>\\n€476,000 476000€\\n</td>\n",
       "      <td>1130</td>\n",
       "      <td>After signing the deed</td>\n",
       "      <td>MIDDLE WAY</td>\n",
       "      <td>2017</td>\n",
       "      <td>...</td>\n",
       "      <td>NaN</td>\n",
       "      <td>NaN</td>\n",
       "      <td>NaN</td>\n",
       "      <td>NaN</td>\n",
       "      <td>NaN</td>\n",
       "      <td>NaN</td>\n",
       "      <td>NaN</td>\n",
       "      <td>NaN</td>\n",
       "      <td>NaN</td>\n",
       "      <td>NaN</td>\n",
       "    </tr>\n",
       "  </tbody>\n",
       "</table>\n",
       "<p>1 rows × 112 columns</p>\n",
       "</div>"
      ],
      "text/plain": [
       "  Immoweb ID Property type property sub-type   Price       Eur/m2  \\\n",
       "0    9739983     APARTMENT         PENTHOUSE  476000  3051.282051   \n",
       "\n",
       "             Price HTML Post code         Available as of Property name  \\\n",
       "0  \\n€476,000 476000€\\n      1130  After signing the deed    MIDDLE WAY   \n",
       "\n",
       "  Construction year  ... Professional space surface Land is facing street  \\\n",
       "0              2017  ...                        NaN                   NaN   \n",
       "\n",
       "   Flat land Current monthly revenue Wooded land  Plot at rear  \\\n",
       "0        NaN                     NaN         NaN           NaN   \n",
       "\n",
       "  Percentage rented EPC description Venue of the sale Date of the sale  \n",
       "0               NaN             NaN               NaN              NaN  \n",
       "\n",
       "[1 rows x 112 columns]"
      ]
     },
     "execution_count": 290,
     "metadata": {},
     "output_type": "execute_result"
    }
   ],
   "source": [
    "houses.head(1)"
   ]
  },
  {
   "cell_type": "markdown",
   "id": "629e3ce6",
   "metadata": {},
   "source": [
    "#### Let's change the type to numeric (there are some NaN's as well)"
   ]
  },
  {
   "cell_type": "code",
   "execution_count": 291,
   "id": "cb4fa656",
   "metadata": {},
   "outputs": [
    {
     "data": {
      "text/plain": [
       "0       NaN\n",
       "3       0.0\n",
       "4       0.0\n",
       "5       NaN\n",
       "6       NaN\n",
       "       ... \n",
       "469     0.0\n",
       "486    10.0\n",
       "489     NaN\n",
       "491     NaN\n",
       "492     NaN\n",
       "Name: Swimming pool, Length: 8747, dtype: float64"
      ]
     },
     "execution_count": 291,
     "metadata": {},
     "output_type": "execute_result"
    }
   ],
   "source": [
    "pd.to_numeric(houses['Swimming pool'], errors = 'coerce')\n",
    "\n"
   ]
  },
  {
   "cell_type": "code",
   "execution_count": 292,
   "id": "7059719d",
   "metadata": {},
   "outputs": [
    {
     "data": {
      "text/html": [
       "<div>\n",
       "<style scoped>\n",
       "    .dataframe tbody tr th:only-of-type {\n",
       "        vertical-align: middle;\n",
       "    }\n",
       "\n",
       "    .dataframe tbody tr th {\n",
       "        vertical-align: top;\n",
       "    }\n",
       "\n",
       "    .dataframe thead th {\n",
       "        text-align: right;\n",
       "    }\n",
       "</style>\n",
       "<table border=\"1\" class=\"dataframe\">\n",
       "  <thead>\n",
       "    <tr style=\"text-align: right;\">\n",
       "      <th></th>\n",
       "      <th>Immoweb ID</th>\n",
       "    </tr>\n",
       "    <tr>\n",
       "      <th>Swimming pool</th>\n",
       "      <th></th>\n",
       "    </tr>\n",
       "  </thead>\n",
       "  <tbody>\n",
       "    <tr>\n",
       "      <th>0.0</th>\n",
       "      <td>3040</td>\n",
       "    </tr>\n",
       "    <tr>\n",
       "      <th>10.0</th>\n",
       "      <td>420</td>\n",
       "    </tr>\n",
       "  </tbody>\n",
       "</table>\n",
       "</div>"
      ],
      "text/plain": [
       "               Immoweb ID\n",
       "Swimming pool            \n",
       "0.0                  3040\n",
       "10.0                  420"
      ]
     },
     "execution_count": 292,
     "metadata": {},
     "output_type": "execute_result"
    }
   ],
   "source": [
    "houses.groupby(['Swimming pool']).count().iloc[:,:1]"
   ]
  },
  {
   "cell_type": "markdown",
   "id": "b4bd6a94",
   "metadata": {},
   "source": [
    "## 6. Kitchen type"
   ]
  },
  {
   "cell_type": "code",
   "execution_count": 293,
   "id": "d89f2909",
   "metadata": {},
   "outputs": [
    {
     "data": {
      "text/html": [
       "<div>\n",
       "<style scoped>\n",
       "    .dataframe tbody tr th:only-of-type {\n",
       "        vertical-align: middle;\n",
       "    }\n",
       "\n",
       "    .dataframe tbody tr th {\n",
       "        vertical-align: top;\n",
       "    }\n",
       "\n",
       "    .dataframe thead th {\n",
       "        text-align: right;\n",
       "    }\n",
       "</style>\n",
       "<table border=\"1\" class=\"dataframe\">\n",
       "  <thead>\n",
       "    <tr style=\"text-align: right;\">\n",
       "      <th></th>\n",
       "      <th>Immoweb ID</th>\n",
       "    </tr>\n",
       "    <tr>\n",
       "      <th>Kitchen type</th>\n",
       "      <th></th>\n",
       "    </tr>\n",
       "  </thead>\n",
       "  <tbody>\n",
       "    <tr>\n",
       "      <th>Hyper equipped</th>\n",
       "      <td>1509</td>\n",
       "    </tr>\n",
       "    <tr>\n",
       "      <th>Installed</th>\n",
       "      <td>2910</td>\n",
       "    </tr>\n",
       "    <tr>\n",
       "      <th>Not installed</th>\n",
       "      <td>333</td>\n",
       "    </tr>\n",
       "    <tr>\n",
       "      <th>Semi equipped</th>\n",
       "      <td>768</td>\n",
       "    </tr>\n",
       "    <tr>\n",
       "      <th>USA hyper equipped</th>\n",
       "      <td>703</td>\n",
       "    </tr>\n",
       "    <tr>\n",
       "      <th>USA installed</th>\n",
       "      <td>269</td>\n",
       "    </tr>\n",
       "    <tr>\n",
       "      <th>USA semi equipped</th>\n",
       "      <td>55</td>\n",
       "    </tr>\n",
       "    <tr>\n",
       "      <th>USA uninstalled</th>\n",
       "      <td>3</td>\n",
       "    </tr>\n",
       "  </tbody>\n",
       "</table>\n",
       "</div>"
      ],
      "text/plain": [
       "                    Immoweb ID\n",
       "Kitchen type                  \n",
       "Hyper equipped            1509\n",
       "Installed                 2910\n",
       "Not installed              333\n",
       "Semi equipped              768\n",
       "USA hyper equipped         703\n",
       "USA installed              269\n",
       "USA semi equipped           55\n",
       "USA uninstalled              3"
      ]
     },
     "execution_count": 293,
     "metadata": {},
     "output_type": "execute_result"
    }
   ],
   "source": [
    "houses.groupby(['Kitchen type']).count().iloc[:,:1]\n"
   ]
  },
  {
   "cell_type": "code",
   "execution_count": 294,
   "id": "7119191d",
   "metadata": {},
   "outputs": [
    {
     "data": {
      "text/plain": [
       "2197"
      ]
     },
     "execution_count": 294,
     "metadata": {},
     "output_type": "execute_result"
    }
   ],
   "source": [
    "houses['Immoweb ID'].loc[pd.isna(houses['Kitchen type'])].count()\n"
   ]
  },
  {
   "cell_type": "markdown",
   "id": "6c14b399",
   "metadata": {},
   "source": [
    "Kitchen type max 15 points!  NaN: 3400"
   ]
  },
  {
   "cell_type": "code",
   "execution_count": 295,
   "id": "e8081ee8",
   "metadata": {},
   "outputs": [],
   "source": [
    "def kitchen_type(value: str) -> int:\n",
    "    if pd.isna(value) or pd.isnull(value): \n",
    "        return value  #Keep NaN as Nan\n",
    "    elif value == 'Hyper equipped' or value == 'USA hyper equipped' or value == 10:\n",
    "        return 10\n",
    "    elif value == 'Semi equipped' or value == 'USA semi equipped' or value == 7:\n",
    "        return 7\n",
    "    elif value == 'Installed' or value == 'USA installed' or value == 4:\n",
    "        return 4\n",
    "    elif value == 'Not installed'or value == 'USA uninstalled' or value == 0:\n",
    "        return 0\n",
    "    else:\n",
    "        return 3 #just to notice the error\n",
    "\n",
    "\n",
    "houses['Kitchen type'] = houses['Kitchen type'].apply(kitchen_type)"
   ]
  },
  {
   "cell_type": "markdown",
   "id": "538e20be",
   "metadata": {},
   "source": [
    "#### Let's change the type to numeric (there are some NaN's as well)"
   ]
  },
  {
   "cell_type": "code",
   "execution_count": 296,
   "id": "99fbec32",
   "metadata": {},
   "outputs": [
    {
     "data": {
      "text/plain": [
       "0      10.0\n",
       "3       4.0\n",
       "4      10.0\n",
       "5      10.0\n",
       "6       7.0\n",
       "       ... \n",
       "469    10.0\n",
       "486     NaN\n",
       "489     4.0\n",
       "491     NaN\n",
       "492     NaN\n",
       "Name: Kitchen type, Length: 8747, dtype: float64"
      ]
     },
     "execution_count": 296,
     "metadata": {},
     "output_type": "execute_result"
    }
   ],
   "source": [
    "pd.to_numeric(houses['Kitchen type'], errors = 'coerce')\n"
   ]
  },
  {
   "cell_type": "code",
   "execution_count": 297,
   "id": "1068e5a8",
   "metadata": {},
   "outputs": [
    {
     "data": {
      "text/html": [
       "<div>\n",
       "<style scoped>\n",
       "    .dataframe tbody tr th:only-of-type {\n",
       "        vertical-align: middle;\n",
       "    }\n",
       "\n",
       "    .dataframe tbody tr th {\n",
       "        vertical-align: top;\n",
       "    }\n",
       "\n",
       "    .dataframe thead th {\n",
       "        text-align: right;\n",
       "    }\n",
       "</style>\n",
       "<table border=\"1\" class=\"dataframe\">\n",
       "  <thead>\n",
       "    <tr style=\"text-align: right;\">\n",
       "      <th></th>\n",
       "      <th>Immoweb ID</th>\n",
       "    </tr>\n",
       "    <tr>\n",
       "      <th>Kitchen type</th>\n",
       "      <th></th>\n",
       "    </tr>\n",
       "  </thead>\n",
       "  <tbody>\n",
       "    <tr>\n",
       "      <th>0.0</th>\n",
       "      <td>336</td>\n",
       "    </tr>\n",
       "    <tr>\n",
       "      <th>4.0</th>\n",
       "      <td>3179</td>\n",
       "    </tr>\n",
       "    <tr>\n",
       "      <th>7.0</th>\n",
       "      <td>823</td>\n",
       "    </tr>\n",
       "    <tr>\n",
       "      <th>10.0</th>\n",
       "      <td>2212</td>\n",
       "    </tr>\n",
       "  </tbody>\n",
       "</table>\n",
       "</div>"
      ],
      "text/plain": [
       "              Immoweb ID\n",
       "Kitchen type            \n",
       "0.0                  336\n",
       "4.0                 3179\n",
       "7.0                  823\n",
       "10.0                2212"
      ]
     },
     "execution_count": 297,
     "metadata": {},
     "output_type": "execute_result"
    }
   ],
   "source": [
    "houses.groupby(['Kitchen type']).count().iloc[:,:1]\n",
    "\n"
   ]
  },
  {
   "cell_type": "code",
   "execution_count": 298,
   "id": "78e4b273",
   "metadata": {},
   "outputs": [
    {
     "data": {
      "text/plain": [
       "2197"
      ]
     },
     "execution_count": 298,
     "metadata": {},
     "output_type": "execute_result"
    }
   ],
   "source": [
    "houses['Immoweb ID'].loc[pd.isna(houses['Kitchen type'])].count()"
   ]
  },
  {
   "cell_type": "markdown",
   "id": "d9dfd53e",
   "metadata": {},
   "source": [
    "## 7. Double glazing\n",
    "\n",
    "'Double glazing', only 2398 empty rows"
   ]
  },
  {
   "cell_type": "code",
   "execution_count": 299,
   "id": "2faa8217",
   "metadata": {},
   "outputs": [
    {
     "data": {
      "text/html": [
       "<div>\n",
       "<style scoped>\n",
       "    .dataframe tbody tr th:only-of-type {\n",
       "        vertical-align: middle;\n",
       "    }\n",
       "\n",
       "    .dataframe tbody tr th {\n",
       "        vertical-align: top;\n",
       "    }\n",
       "\n",
       "    .dataframe thead th {\n",
       "        text-align: right;\n",
       "    }\n",
       "</style>\n",
       "<table border=\"1\" class=\"dataframe\">\n",
       "  <thead>\n",
       "    <tr style=\"text-align: right;\">\n",
       "      <th></th>\n",
       "      <th>Immoweb ID</th>\n",
       "    </tr>\n",
       "    <tr>\n",
       "      <th>Double glazing</th>\n",
       "      <th></th>\n",
       "    </tr>\n",
       "  </thead>\n",
       "  <tbody>\n",
       "    <tr>\n",
       "      <th>No</th>\n",
       "      <td>497</td>\n",
       "    </tr>\n",
       "    <tr>\n",
       "      <th>Yes</th>\n",
       "      <td>6434</td>\n",
       "    </tr>\n",
       "  </tbody>\n",
       "</table>\n",
       "</div>"
      ],
      "text/plain": [
       "                Immoweb ID\n",
       "Double glazing            \n",
       "No                     497\n",
       "Yes                   6434"
      ]
     },
     "execution_count": 299,
     "metadata": {},
     "output_type": "execute_result"
    }
   ],
   "source": [
    "houses.groupby(['Double glazing']).count().iloc[:,:1]"
   ]
  },
  {
   "cell_type": "code",
   "execution_count": 300,
   "id": "3309f85e",
   "metadata": {},
   "outputs": [
    {
     "data": {
      "text/plain": [
       "0"
      ]
     },
     "execution_count": 300,
     "metadata": {},
     "output_type": "execute_result"
    }
   ],
   "source": [
    "#Empty rows\n",
    "houses['Immoweb ID'].loc[pd.isna(houses['Energy class'])].count()\n"
   ]
  },
  {
   "cell_type": "markdown",
   "id": "9e4e9ad6",
   "metadata": {},
   "source": [
    "#### Defining the value from zero to ten\n"
   ]
  },
  {
   "cell_type": "code",
   "execution_count": 301,
   "id": "5c8715a4",
   "metadata": {},
   "outputs": [],
   "source": [
    "def double_glazing(value: str) -> int:\n",
    "    if pd.isna(value) or pd.isnull(value):\n",
    "        return value\n",
    "    elif value == 'No':\n",
    "        return 0\n",
    "    elif value == 'Yes':\n",
    "        return 2\n",
    "    else:\n",
    "        return value\n",
    "\n",
    "houses['Double glazing'] = houses['Double glazing'].apply(double_glazing)"
   ]
  },
  {
   "cell_type": "markdown",
   "id": "2237292a",
   "metadata": {},
   "source": [
    "## 8. Surface of the plot "
   ]
  },
  {
   "cell_type": "markdown",
   "id": "94ccf2fc",
   "metadata": {},
   "source": [
    "NO TOO FEW ROWs.     'CO₂ emission' - Not specidied 9023\n",
    "\n",
    "DONE                 'Energy class' - Not specified 3026 <=======\n",
    "\n",
    "Enegy class covers   'Yearly theoretical total energy consumption'- Not specified 9333\n",
    "\n",
    "Enegy class covers   'Primary energy consumption' - Not specified 3155\n",
    "\n",
    "DONE                 'Double glazing' - this is good!! empty : 2398 <======\n",
    "\n",
    "????                 'Construction year' - empty rows: 4294\n",
    "\n",
    "UNDER WORK            'Surface of the plot' 5699 empty rows\n",
    "\n",
    "???                   'Gas, water & electricity' 7074 empty rows, 1123 has none no water or electricity???\n",
    "\n",
    "DONE:                  Swimming pool 502 values only\n"
   ]
  },
  {
   "cell_type": "code",
   "execution_count": 302,
   "id": "328f8277",
   "metadata": {},
   "outputs": [
    {
     "data": {
      "text/plain": [
       "4163"
      ]
     },
     "execution_count": 302,
     "metadata": {},
     "output_type": "execute_result"
    }
   ],
   "source": [
    "houses['Immoweb ID'].loc[pd.isna(houses['Surface of the plot'])].count()"
   ]
  },
  {
   "cell_type": "code",
   "execution_count": 303,
   "id": "1b8bceab",
   "metadata": {},
   "outputs": [
    {
     "data": {
      "text/plain": [
       "dtype('O')"
      ]
     },
     "execution_count": 303,
     "metadata": {},
     "output_type": "execute_result"
    }
   ],
   "source": [
    "houses['Surface of the plot'].dtypes"
   ]
  },
  {
   "cell_type": "code",
   "execution_count": 304,
   "id": "69c922ae",
   "metadata": {},
   "outputs": [
    {
     "data": {
      "text/html": [
       "<div>\n",
       "<style scoped>\n",
       "    .dataframe tbody tr th:only-of-type {\n",
       "        vertical-align: middle;\n",
       "    }\n",
       "\n",
       "    .dataframe tbody tr th {\n",
       "        vertical-align: top;\n",
       "    }\n",
       "\n",
       "    .dataframe thead th {\n",
       "        text-align: right;\n",
       "    }\n",
       "</style>\n",
       "<table border=\"1\" class=\"dataframe\">\n",
       "  <thead>\n",
       "    <tr style=\"text-align: right;\">\n",
       "      <th></th>\n",
       "      <th>Immoweb ID</th>\n",
       "    </tr>\n",
       "    <tr>\n",
       "      <th>Surface of the plot</th>\n",
       "      <th></th>\n",
       "    </tr>\n",
       "  </thead>\n",
       "  <tbody>\n",
       "    <tr>\n",
       "      <th>10</th>\n",
       "      <td>1</td>\n",
       "    </tr>\n",
       "    <tr>\n",
       "      <th>100</th>\n",
       "      <td>28</td>\n",
       "    </tr>\n",
       "    <tr>\n",
       "      <th>1000</th>\n",
       "      <td>45</td>\n",
       "    </tr>\n",
       "    <tr>\n",
       "      <th>10000</th>\n",
       "      <td>10</td>\n",
       "    </tr>\n",
       "    <tr>\n",
       "      <th>10002</th>\n",
       "      <td>1</td>\n",
       "    </tr>\n",
       "    <tr>\n",
       "      <th>...</th>\n",
       "      <td>...</td>\n",
       "    </tr>\n",
       "    <tr>\n",
       "      <th>992</th>\n",
       "      <td>1</td>\n",
       "    </tr>\n",
       "    <tr>\n",
       "      <th>993</th>\n",
       "      <td>2</td>\n",
       "    </tr>\n",
       "    <tr>\n",
       "      <th>996</th>\n",
       "      <td>2</td>\n",
       "    </tr>\n",
       "    <tr>\n",
       "      <th>997</th>\n",
       "      <td>2</td>\n",
       "    </tr>\n",
       "    <tr>\n",
       "      <th>9973</th>\n",
       "      <td>1</td>\n",
       "    </tr>\n",
       "  </tbody>\n",
       "</table>\n",
       "<p>1946 rows × 1 columns</p>\n",
       "</div>"
      ],
      "text/plain": [
       "                     Immoweb ID\n",
       "Surface of the plot            \n",
       "10                            1\n",
       "100                          28\n",
       "1000                         45\n",
       "10000                        10\n",
       "10002                         1\n",
       "...                         ...\n",
       "992                           1\n",
       "993                           2\n",
       "996                           2\n",
       "997                           2\n",
       "9973                          1\n",
       "\n",
       "[1946 rows x 1 columns]"
      ]
     },
     "execution_count": 304,
     "metadata": {},
     "output_type": "execute_result"
    }
   ],
   "source": [
    "houses.groupby(['Surface of the plot']).count().iloc[:,:1]\n",
    "\n"
   ]
  },
  {
   "cell_type": "code",
   "execution_count": 305,
   "id": "e8546114",
   "metadata": {},
   "outputs": [],
   "source": [
    "# min and max values for Extra\n",
    "#pd.to_numeric(houses['Surface of the plot'], errors = 'coerce')\n",
    "#a, b = 0, 5\n",
    "\n",
    "\n",
    "\n",
    "\n",
    "\n",
    "def surface_of_the_plot(value: str) -> int:\n",
    "    if pd.isna(value) or pd.isnull(value):\n",
    "        return value\n",
    "    else:\n",
    "        return float(value)\n",
    "\n",
    "houses['Surface of the plot'] = houses['Surface of the plot'].apply(surface_of_the_plot)\n",
    "\n",
    "# min and max values for 'Surface of the plot'\n",
    "a, b = 0, 40\n",
    "x, y = houses['Surface of the plot'].min(), houses['Surface of the plot'].max()\n",
    "houses['Surface of the plot'] = (houses['Surface of the plot'] - x)/(y - x) * (b - a) + a\n"
   ]
  },
  {
   "cell_type": "markdown",
   "id": "0e71cf4b",
   "metadata": {},
   "source": [
    "## 9. Energy"
   ]
  },
  {
   "cell_type": "code",
   "execution_count": 306,
   "id": "00a9b45d",
   "metadata": {
    "scrolled": false
   },
   "outputs": [
    {
     "data": {
      "text/html": [
       "<div>\n",
       "<style scoped>\n",
       "    .dataframe tbody tr th:only-of-type {\n",
       "        vertical-align: middle;\n",
       "    }\n",
       "\n",
       "    .dataframe tbody tr th {\n",
       "        vertical-align: top;\n",
       "    }\n",
       "\n",
       "    .dataframe thead th {\n",
       "        text-align: right;\n",
       "    }\n",
       "</style>\n",
       "<table border=\"1\" class=\"dataframe\">\n",
       "  <thead>\n",
       "    <tr style=\"text-align: right;\">\n",
       "      <th></th>\n",
       "      <th>Immoweb ID</th>\n",
       "    </tr>\n",
       "    <tr>\n",
       "      <th>Energy class</th>\n",
       "      <th></th>\n",
       "    </tr>\n",
       "  </thead>\n",
       "  <tbody>\n",
       "    <tr>\n",
       "      <th>A</th>\n",
       "      <td>392</td>\n",
       "    </tr>\n",
       "    <tr>\n",
       "      <th>A+</th>\n",
       "      <td>16</td>\n",
       "    </tr>\n",
       "    <tr>\n",
       "      <th>A++</th>\n",
       "      <td>1</td>\n",
       "    </tr>\n",
       "    <tr>\n",
       "      <th>B</th>\n",
       "      <td>1442</td>\n",
       "    </tr>\n",
       "    <tr>\n",
       "      <th>C</th>\n",
       "      <td>1429</td>\n",
       "    </tr>\n",
       "    <tr>\n",
       "      <th>C_B</th>\n",
       "      <td>1</td>\n",
       "    </tr>\n",
       "    <tr>\n",
       "      <th>D</th>\n",
       "      <td>1172</td>\n",
       "    </tr>\n",
       "    <tr>\n",
       "      <th>D_C</th>\n",
       "      <td>3</td>\n",
       "    </tr>\n",
       "    <tr>\n",
       "      <th>E</th>\n",
       "      <td>828</td>\n",
       "    </tr>\n",
       "    <tr>\n",
       "      <th>E_B</th>\n",
       "      <td>1</td>\n",
       "    </tr>\n",
       "    <tr>\n",
       "      <th>F</th>\n",
       "      <td>831</td>\n",
       "    </tr>\n",
       "    <tr>\n",
       "      <th>F_B</th>\n",
       "      <td>1</td>\n",
       "    </tr>\n",
       "    <tr>\n",
       "      <th>F_D</th>\n",
       "      <td>2</td>\n",
       "    </tr>\n",
       "    <tr>\n",
       "      <th>G</th>\n",
       "      <td>719</td>\n",
       "    </tr>\n",
       "    <tr>\n",
       "      <th>G_C</th>\n",
       "      <td>2</td>\n",
       "    </tr>\n",
       "    <tr>\n",
       "      <th>G_D</th>\n",
       "      <td>2</td>\n",
       "    </tr>\n",
       "    <tr>\n",
       "      <th>G_F</th>\n",
       "      <td>2</td>\n",
       "    </tr>\n",
       "    <tr>\n",
       "      <th>Not specified</th>\n",
       "      <td>1903</td>\n",
       "    </tr>\n",
       "  </tbody>\n",
       "</table>\n",
       "</div>"
      ],
      "text/plain": [
       "               Immoweb ID\n",
       "Energy class             \n",
       "A                     392\n",
       "A+                     16\n",
       "A++                     1\n",
       "B                    1442\n",
       "C                    1429\n",
       "C_B                     1\n",
       "D                    1172\n",
       "D_C                     3\n",
       "E                     828\n",
       "E_B                     1\n",
       "F                     831\n",
       "F_B                     1\n",
       "F_D                     2\n",
       "G                     719\n",
       "G_C                     2\n",
       "G_D                     2\n",
       "G_F                     2\n",
       "Not specified        1903"
      ]
     },
     "execution_count": 306,
     "metadata": {},
     "output_type": "execute_result"
    }
   ],
   "source": [
    "houses.groupby(['Energy class']).count().iloc[:,:1]\n",
    "\n"
   ]
  },
  {
   "cell_type": "markdown",
   "id": "f35bd125",
   "metadata": {},
   "source": [
    "#### Defining values for 'Energy class'. The values could go from 0 to 16, starting from 0 ( as there are 17 different class). Not specidied is Null"
   ]
  },
  {
   "cell_type": "code",
   "execution_count": 307,
   "id": "106bbdde",
   "metadata": {},
   "outputs": [],
   "source": [
    "def energy_class(value: str) -> int:\n",
    "    if pd.isna(value) or pd.isnull(value):\n",
    "        return value\n",
    "    elif value == 'G_F':\n",
    "        return 0\n",
    "    elif value == 'G_D':\n",
    "        return 0.5\n",
    "    elif value == 'G_C':\n",
    "        return 1\n",
    "    elif value == 'G':\n",
    "        return 1.5\n",
    "    elif value == 'F_D':\n",
    "        return 2\n",
    "    elif value == 'F_B':\n",
    "        return 2.5\n",
    "    elif value == 'F':\n",
    "        return 3\n",
    "    elif value == 'E_B':\n",
    "        return 3.5\n",
    "    elif value == 'E':\n",
    "        return 4\n",
    "    elif value == 'D_C':\n",
    "        return 4.5\n",
    "    elif value == 'D':\n",
    "        return 5\n",
    "    elif value == 'C_B':\n",
    "        return 5.5\n",
    "    elif value == 'C':\n",
    "        return 6\n",
    "    elif value == 'B':\n",
    "        return 6.5\n",
    "    elif value == 'A':\n",
    "        return 7\n",
    "    elif value == 'A+':\n",
    "        return 7.5\n",
    "    elif value == 'A++':\n",
    "        return 8\n",
    "    elif value == 'Not specified':\n",
    "        return np.nan\n",
    "    else:\n",
    "        return value\n",
    "\n",
    "houses['Energy class'] = houses['Energy class'].apply(energy_class)\n",
    "\n"
   ]
  },
  {
   "cell_type": "code",
   "execution_count": 308,
   "id": "f872ca58",
   "metadata": {},
   "outputs": [
    {
     "data": {
      "text/plain": [
       "1903"
      ]
     },
     "execution_count": 308,
     "metadata": {},
     "output_type": "execute_result"
    }
   ],
   "source": [
    "houses['Immoweb ID'].loc[pd.isna(houses['Energy class'])].count()\n",
    "\n"
   ]
  },
  {
   "cell_type": "markdown",
   "id": "2a8747e0",
   "metadata": {},
   "source": [
    "\n",
    "\n"
   ]
  },
  {
   "cell_type": "markdown",
   "id": "6d7f40ed",
   "metadata": {},
   "source": [
    "# Calculating EXTRA\n",
    "## 10. EXTRA"
   ]
  },
  {
   "cell_type": "markdown",
   "id": "d00ecd67",
   "metadata": {},
   "source": [
    "Rename column 'Price HTML' to 'Extra' and SUM all the other columns there"
   ]
  },
  {
   "cell_type": "code",
   "execution_count": 309,
   "id": "2d5adb27",
   "metadata": {},
   "outputs": [],
   "source": [
    "houses = houses.rename(columns={'Price HTML': 'Extra'})\n",
    "houses.head(1)\n",
    "\n",
    "#houses['Eur/m2'] = houses['Swimming pool']+ houses['Kitchen type']+ houses['Energy class'] \n",
    "\n",
    "houses['Extra'] = houses['Swimming pool']+ houses['Kitchen type']+ houses['Energy class'] + houses['Double glazing'] + houses['Surface of the plot']\n",
    "\n",
    "# min and max values for Extra\n",
    "a, b = 0, 5\n",
    "x, y = houses['Extra'].min(), houses['Extra'].max()\n",
    "houses['Extra'] = (houses['Extra'] - x)/(y - x) * (b - a) + a\n",
    "\n",
    "\n",
    "\n"
   ]
  },
  {
   "cell_type": "code",
   "execution_count": 310,
   "id": "699227d9",
   "metadata": {},
   "outputs": [
    {
     "data": {
      "text/html": [
       "<div>\n",
       "<style scoped>\n",
       "    .dataframe tbody tr th:only-of-type {\n",
       "        vertical-align: middle;\n",
       "    }\n",
       "\n",
       "    .dataframe tbody tr th {\n",
       "        vertical-align: top;\n",
       "    }\n",
       "\n",
       "    .dataframe thead th {\n",
       "        text-align: right;\n",
       "    }\n",
       "</style>\n",
       "<table border=\"1\" class=\"dataframe\">\n",
       "  <thead>\n",
       "    <tr style=\"text-align: right;\">\n",
       "      <th></th>\n",
       "      <th>Immoweb ID</th>\n",
       "    </tr>\n",
       "    <tr>\n",
       "      <th>Extra</th>\n",
       "      <th></th>\n",
       "    </tr>\n",
       "  </thead>\n",
       "  <tbody>\n",
       "    <tr>\n",
       "      <th>0.000000</th>\n",
       "      <td>1</td>\n",
       "    </tr>\n",
       "    <tr>\n",
       "      <th>0.000306</th>\n",
       "      <td>1</td>\n",
       "    </tr>\n",
       "    <tr>\n",
       "      <th>0.187675</th>\n",
       "      <td>1</td>\n",
       "    </tr>\n",
       "    <tr>\n",
       "      <th>0.187695</th>\n",
       "      <td>1</td>\n",
       "    </tr>\n",
       "    <tr>\n",
       "      <th>0.187870</th>\n",
       "      <td>1</td>\n",
       "    </tr>\n",
       "    <tr>\n",
       "      <th>...</th>\n",
       "      <td>...</td>\n",
       "    </tr>\n",
       "    <tr>\n",
       "      <th>2.653343</th>\n",
       "      <td>1</td>\n",
       "    </tr>\n",
       "    <tr>\n",
       "      <th>2.654453</th>\n",
       "      <td>1</td>\n",
       "    </tr>\n",
       "    <tr>\n",
       "      <th>2.660863</th>\n",
       "      <td>1</td>\n",
       "    </tr>\n",
       "    <tr>\n",
       "      <th>2.804533</th>\n",
       "      <td>1</td>\n",
       "    </tr>\n",
       "    <tr>\n",
       "      <th>5.000000</th>\n",
       "      <td>1</td>\n",
       "    </tr>\n",
       "  </tbody>\n",
       "</table>\n",
       "<p>893 rows × 1 columns</p>\n",
       "</div>"
      ],
      "text/plain": [
       "          Immoweb ID\n",
       "Extra               \n",
       "0.000000           1\n",
       "0.000306           1\n",
       "0.187675           1\n",
       "0.187695           1\n",
       "0.187870           1\n",
       "...              ...\n",
       "2.653343           1\n",
       "2.654453           1\n",
       "2.660863           1\n",
       "2.804533           1\n",
       "5.000000           1\n",
       "\n",
       "[893 rows x 1 columns]"
      ]
     },
     "execution_count": 310,
     "metadata": {},
     "output_type": "execute_result"
    }
   ],
   "source": [
    "houses.groupby(['Extra']).count().iloc[:,:1]\n",
    "#houses['Extra'].max()\n"
   ]
  },
  {
   "cell_type": "code",
   "execution_count": 311,
   "id": "2b214649",
   "metadata": {},
   "outputs": [
    {
     "data": {
      "text/plain": [
       "7788"
      ]
     },
     "execution_count": 311,
     "metadata": {},
     "output_type": "execute_result"
    }
   ],
   "source": [
    "houses['Immoweb ID'].loc[pd.isna(houses['Extra'])].count()"
   ]
  },
  {
   "cell_type": "markdown",
   "id": "32869da3",
   "metadata": {},
   "source": [
    "## Calculating the amount of available rows"
   ]
  },
  {
   "cell_type": "code",
   "execution_count": 312,
   "id": "221a1f77",
   "metadata": {},
   "outputs": [
    {
     "name": "stdout",
     "output_type": "stream",
     "text": [
      "8747,100,Immoweb ID\n",
      "8747,100,Property type\n",
      "8747,100,property sub-type\n",
      "8747,100,Price\n",
      "8747,100,Eur/m2\n",
      "959,11,Extra\n",
      "8747,100,Post code\n",
      "6375,73,Available as of\n",
      "347,4,Property name\n",
      "5600,64,Construction year\n",
      "2062,24,Floor\n",
      "2292,26,Number of floors\n",
      "8747,100,Building condition\n",
      "7057,81,Number of frontages\n",
      "3365,38,Surroundings type\n",
      "8747,100,Living area\n",
      "4123,47,Living room surface\n",
      "1434,16,Dining room\n",
      "6550,75,Kitchen type\n",
      "3416,39,Kitchen surface\n",
      "8109,93,Bedrooms\n",
      "4343,50,Bedroom 1 surface\n",
      "3938,45,Bedroom 2 surface\n",
      "2854,33,Bedroom 3 surface\n",
      "7543,86,Bathrooms\n",
      "2877,33,Shower rooms\n",
      "6579,75,Toilets\n",
      "6647,76,Furnished\n",
      "1943,22,Armored door\n",
      "3722,43,Terrace surface\n",
      "4529,52,Elevator\n",
      "3416,39,Accessible for disabled people\n",
      "2529,29,Visio phone\n",
      "8747,100,Primary energy consumption\n",
      "6844,78,Energy class\n",
      "8743,100,Reference number of the EPC report\n",
      "8747,100,CO₂ emission\n",
      "8747,100,Yearly theoretical total energy consumption\n",
      "2146,25,As built plan\n",
      "6631,76,Heating type\n",
      "6931,79,Double glazing\n",
      "8520,97,Tenement building\n",
      "8073,92,Address\n",
      "6863,78,External reference\n",
      "8747,100,url address\n",
      "3636,42,Planning permission obtained\n",
      "3307,38,Subdivision permit\n",
      "891,10,Available date\n",
      "3670,42,Covered parking spaces\n",
      "3331,38,Outdoor parking spaces\n",
      "3421,39,Proceedings for breach of planning regulations\n",
      "4513,52,Flood zone type\n",
      "1261,14,Neighbourhood or locality\n",
      "1072,12,Office surface\n",
      "3719,43,Office\n",
      "3215,37,Basement\n",
      "2849,33,Intercom\n",
      "3460,40,Swimming pool\n",
      "2247,26,Street frontage width\n",
      "3898,45,TV cable\n",
      "848,10,Basement surface\n",
      "1423,16,Caretaker\n",
      "3745,43,Possible priority purchase right\n",
      "3890,44,Latest land use designation\n",
      "674,8,How many fireplaces?\n",
      "1964,22,Dressing room\n",
      "910,10,Laundry room\n",
      "817,9,Professional space\n",
      "724,8,Terrace orientation\n",
      "2609,30,Secure access / alarm\n",
      "587,7,Air conditioning\n",
      "747,9,Jacuzzi\n",
      "747,9,Sauna\n",
      "580,7,Internet\n",
      "837,10,Conformity certification for fuel tanks\n",
      "1760,20,Heat pump\n",
      "1023,12,Photovoltaic solar panels\n",
      "1269,15,Thermic solar panels\n",
      "973,11,Common water heater\n",
      "913,10,Type of building\n",
      "855,10,Obligation to build\n",
      "1308,15,Living room\n",
      "333,4,Attic surface\n",
      "109,1,Isolated\n",
      "616,7,E-level (overall energy performance)\n",
      "1573,18,Bedroom 4 surface\n",
      "1325,15,Total ground floor buildable\n",
      "2091,24,Garden surface\n",
      "1508,17,Garden orientation\n",
      "848,10,Garden\n",
      "2027,23,Terrace\n",
      "10,0,Extra information\n",
      "760,9,Bedroom 5 surface\n",
      "21,0,Sea view\n",
      "427,5,Agent's name\n",
      "19,0,Single session\n",
      "1,0,Terms of visit\n",
      "155,2,Number of annexes\n",
      "1095,13,Attic\n",
      "4584,52,Surface of the plot\n",
      "2750,31,Connection to sewer network\n",
      "3695,42,Gas, water & electricity\n",
      "383,4,Professional space surface\n",
      "693,8,Land is facing street\n",
      "764,9,Flat land\n",
      "138,2,Current monthly revenue\n",
      "619,7,Wooded land\n",
      "627,7,Plot at rear\n",
      "68,1,Percentage rented\n",
      "7,0,EPC description\n",
      "0,0,Venue of the sale\n",
      "0,0,Date of the sale\n"
     ]
    }
   ],
   "source": [
    "columns = houses.columns\n",
    "total_count = houses['Immoweb ID'].count()\n",
    "for col in columns:\n",
    "    count = houses[col].count()\n",
    "    print(f\"{count},{int(round(count/total_count*100,0))},{col}\")"
   ]
  },
  {
   "cell_type": "code",
   "execution_count": 313,
   "id": "6176a8f6",
   "metadata": {},
   "outputs": [],
   "source": [
    "\n",
    "def write_dump(obj: list, file_name: str) -> None:\n",
    "    \"\"\"Writes an object to file in a binary format.\n",
    "    :list_to_save : A list that we want to write file\n",
    "    :file_name: A string that contains the file name\n",
    "    \"\"\"\n",
    "    open_file = open(file_name, \"wb\")\n",
    "    pickle.dump(obj, open_file)\n",
    "    open_file.close()\n",
    "\n",
    "# It's better to comment out the actual line, so it's not run by accident. Also it's good to change the file name\n",
    "write_dump(houses, \"./data/clean_house_data.df\")\n"
   ]
  },
  {
   "cell_type": "markdown",
   "id": "d1160ef5",
   "metadata": {},
   "source": [
    "# Dummies"
   ]
  },
  {
   "cell_type": "markdown",
   "id": "bf98af19",
   "metadata": {},
   "source": [
    "##### Creating Dummies\n"
   ]
  },
  {
   "cell_type": "code",
   "execution_count": 314,
   "id": "6692cd88",
   "metadata": {},
   "outputs": [
    {
     "data": {
      "text/plain": [
       "Index(['Immoweb ID', 'Property type', 'property sub-type', 'Price', 'Eur/m2',\n",
       "       'Extra', 'Post code', 'Available as of', 'Property name',\n",
       "       'Construction year',\n",
       "       ...\n",
       "       'Professional space surface', 'Land is facing street', 'Flat land',\n",
       "       'Current monthly revenue', 'Wooded land', 'Plot at rear',\n",
       "       'Percentage rented', 'EPC description', 'Venue of the sale',\n",
       "       'Date of the sale'],\n",
       "      dtype='object', length=112)"
      ]
     },
     "execution_count": 314,
     "metadata": {},
     "output_type": "execute_result"
    }
   ],
   "source": [
    "houses.columns\n"
   ]
  },
  {
   "cell_type": "markdown",
   "id": "385135c2",
   "metadata": {},
   "source": [
    "## NADIA \n",
    "## 11. CONSTRUCTION YEAR"
   ]
  },
  {
   "cell_type": "code",
   "execution_count": 315,
   "id": "3d4f08ba",
   "metadata": {},
   "outputs": [
    {
     "data": {
      "text/plain": [
       "dtype('O')"
      ]
     },
     "execution_count": 315,
     "metadata": {},
     "output_type": "execute_result"
    }
   ],
   "source": [
    "#houses = houses.loc[pd.notna(houses['Construction year'])]\n",
    "pd.to_numeric(houses['Surface of the plot'], errors = 'coerce')\n",
    "#houses['Construction year'] = houses['Construction year'].astype('int')\n",
    "houses['Construction year'].dtypes"
   ]
  },
  {
   "cell_type": "markdown",
   "id": "701650cd",
   "metadata": {},
   "source": [
    "12. TERRACE SURFACE"
   ]
  },
  {
   "cell_type": "code",
   "execution_count": 316,
   "id": "45e88a2a",
   "metadata": {},
   "outputs": [
    {
     "data": {
      "text/plain": [
       "\"houses = houses.loc[pd.notna(houses['Terrace surface'])]\\nhouses['Terrace surface'] = houses['Terrace surface'].astype('int')\\nhouses['Terrace surface'].dtypes\""
      ]
     },
     "execution_count": 316,
     "metadata": {},
     "output_type": "execute_result"
    }
   ],
   "source": [
    "\"\"\"houses = houses.loc[pd.notna(houses['Terrace surface'])]\n",
    "houses['Terrace surface'] = houses['Terrace surface'].astype('int')\n",
    "houses['Terrace surface'].dtypes\"\"\""
   ]
  },
  {
   "cell_type": "markdown",
   "id": "fce9a4ca",
   "metadata": {},
   "source": [
    "## 12. PROPERTY TYPE"
   ]
  },
  {
   "cell_type": "code",
   "execution_count": 317,
   "id": "7a21f4bf",
   "metadata": {},
   "outputs": [
    {
     "data": {
      "text/html": [
       "<div>\n",
       "<style scoped>\n",
       "    .dataframe tbody tr th:only-of-type {\n",
       "        vertical-align: middle;\n",
       "    }\n",
       "\n",
       "    .dataframe tbody tr th {\n",
       "        vertical-align: top;\n",
       "    }\n",
       "\n",
       "    .dataframe thead th {\n",
       "        text-align: right;\n",
       "    }\n",
       "</style>\n",
       "<table border=\"1\" class=\"dataframe\">\n",
       "  <thead>\n",
       "    <tr style=\"text-align: right;\">\n",
       "      <th></th>\n",
       "      <th>Immoweb ID</th>\n",
       "      <th>property sub-type</th>\n",
       "      <th>Price</th>\n",
       "      <th>Eur/m2</th>\n",
       "      <th>Extra</th>\n",
       "      <th>Post code</th>\n",
       "      <th>Available as of</th>\n",
       "      <th>Property name</th>\n",
       "      <th>Construction year</th>\n",
       "      <th>Floor</th>\n",
       "      <th>...</th>\n",
       "      <th>Gas, water &amp; electricity</th>\n",
       "      <th>Professional space surface</th>\n",
       "      <th>Land is facing street</th>\n",
       "      <th>Flat land</th>\n",
       "      <th>Current monthly revenue</th>\n",
       "      <th>Wooded land</th>\n",
       "      <th>Plot at rear</th>\n",
       "      <th>Percentage rented</th>\n",
       "      <th>EPC description</th>\n",
       "      <th>Venue of the sale</th>\n",
       "    </tr>\n",
       "    <tr>\n",
       "      <th>Property type</th>\n",
       "      <th></th>\n",
       "      <th></th>\n",
       "      <th></th>\n",
       "      <th></th>\n",
       "      <th></th>\n",
       "      <th></th>\n",
       "      <th></th>\n",
       "      <th></th>\n",
       "      <th></th>\n",
       "      <th></th>\n",
       "      <th></th>\n",
       "      <th></th>\n",
       "      <th></th>\n",
       "      <th></th>\n",
       "      <th></th>\n",
       "      <th></th>\n",
       "      <th></th>\n",
       "      <th></th>\n",
       "      <th></th>\n",
       "      <th></th>\n",
       "      <th></th>\n",
       "    </tr>\n",
       "  </thead>\n",
       "  <tbody>\n",
       "    <tr>\n",
       "      <th>APARTMENT</th>\n",
       "      <td>3675</td>\n",
       "      <td>3675</td>\n",
       "      <td>3675</td>\n",
       "      <td>3675</td>\n",
       "      <td>0</td>\n",
       "      <td>3675</td>\n",
       "      <td>2670</td>\n",
       "      <td>289</td>\n",
       "      <td>2496</td>\n",
       "      <td>2062</td>\n",
       "      <td>...</td>\n",
       "      <td>0</td>\n",
       "      <td>13</td>\n",
       "      <td>0</td>\n",
       "      <td>0</td>\n",
       "      <td>0</td>\n",
       "      <td>0</td>\n",
       "      <td>0</td>\n",
       "      <td>0</td>\n",
       "      <td>5</td>\n",
       "      <td>0</td>\n",
       "    </tr>\n",
       "    <tr>\n",
       "      <th>HOUSE</th>\n",
       "      <td>5072</td>\n",
       "      <td>5072</td>\n",
       "      <td>5072</td>\n",
       "      <td>5072</td>\n",
       "      <td>959</td>\n",
       "      <td>5072</td>\n",
       "      <td>3705</td>\n",
       "      <td>58</td>\n",
       "      <td>3104</td>\n",
       "      <td>0</td>\n",
       "      <td>...</td>\n",
       "      <td>3695</td>\n",
       "      <td>370</td>\n",
       "      <td>693</td>\n",
       "      <td>764</td>\n",
       "      <td>138</td>\n",
       "      <td>619</td>\n",
       "      <td>627</td>\n",
       "      <td>68</td>\n",
       "      <td>2</td>\n",
       "      <td>0</td>\n",
       "    </tr>\n",
       "  </tbody>\n",
       "</table>\n",
       "<p>2 rows × 110 columns</p>\n",
       "</div>"
      ],
      "text/plain": [
       "               Immoweb ID  property sub-type  Price  Eur/m2  Extra  Post code  \\\n",
       "Property type                                                                   \n",
       "APARTMENT            3675               3675   3675    3675      0       3675   \n",
       "HOUSE                5072               5072   5072    5072    959       5072   \n",
       "\n",
       "               Available as of  Property name  Construction year  Floor  ...  \\\n",
       "Property type                                                            ...   \n",
       "APARTMENT                 2670            289               2496   2062  ...   \n",
       "HOUSE                     3705             58               3104      0  ...   \n",
       "\n",
       "               Gas, water & electricity  Professional space surface  \\\n",
       "Property type                                                         \n",
       "APARTMENT                             0                          13   \n",
       "HOUSE                              3695                         370   \n",
       "\n",
       "               Land is facing street  Flat land  Current monthly revenue  \\\n",
       "Property type                                                              \n",
       "APARTMENT                          0          0                        0   \n",
       "HOUSE                            693        764                      138   \n",
       "\n",
       "               Wooded land  Plot at rear  Percentage rented  EPC description  \\\n",
       "Property type                                                                  \n",
       "APARTMENT                0             0                  0                5   \n",
       "HOUSE                  619           627                 68                2   \n",
       "\n",
       "               Venue of the sale  \n",
       "Property type                     \n",
       "APARTMENT                      0  \n",
       "HOUSE                          0  \n",
       "\n",
       "[2 rows x 110 columns]"
      ]
     },
     "execution_count": 317,
     "metadata": {},
     "output_type": "execute_result"
    }
   ],
   "source": [
    "houses.groupby(['Property type']).count().iloc[:,:-1]"
   ]
  },
  {
   "cell_type": "code",
   "execution_count": 318,
   "id": "995e4298",
   "metadata": {},
   "outputs": [
    {
     "data": {
      "text/html": [
       "<div>\n",
       "<style scoped>\n",
       "    .dataframe tbody tr th:only-of-type {\n",
       "        vertical-align: middle;\n",
       "    }\n",
       "\n",
       "    .dataframe tbody tr th {\n",
       "        vertical-align: top;\n",
       "    }\n",
       "\n",
       "    .dataframe thead th {\n",
       "        text-align: right;\n",
       "    }\n",
       "</style>\n",
       "<table border=\"1\" class=\"dataframe\">\n",
       "  <thead>\n",
       "    <tr style=\"text-align: right;\">\n",
       "      <th></th>\n",
       "      <th>Immoweb ID</th>\n",
       "      <th>property sub-type</th>\n",
       "      <th>Price</th>\n",
       "      <th>Eur/m2</th>\n",
       "      <th>Extra</th>\n",
       "      <th>Post code</th>\n",
       "      <th>Available as of</th>\n",
       "      <th>Property name</th>\n",
       "      <th>Construction year</th>\n",
       "      <th>Floor</th>\n",
       "      <th>...</th>\n",
       "      <th>Professional space surface</th>\n",
       "      <th>Land is facing street</th>\n",
       "      <th>Flat land</th>\n",
       "      <th>Current monthly revenue</th>\n",
       "      <th>Wooded land</th>\n",
       "      <th>Plot at rear</th>\n",
       "      <th>Percentage rented</th>\n",
       "      <th>EPC description</th>\n",
       "      <th>Venue of the sale</th>\n",
       "      <th>Date of the sale</th>\n",
       "    </tr>\n",
       "    <tr>\n",
       "      <th>Property type</th>\n",
       "      <th></th>\n",
       "      <th></th>\n",
       "      <th></th>\n",
       "      <th></th>\n",
       "      <th></th>\n",
       "      <th></th>\n",
       "      <th></th>\n",
       "      <th></th>\n",
       "      <th></th>\n",
       "      <th></th>\n",
       "      <th></th>\n",
       "      <th></th>\n",
       "      <th></th>\n",
       "      <th></th>\n",
       "      <th></th>\n",
       "      <th></th>\n",
       "      <th></th>\n",
       "      <th></th>\n",
       "      <th></th>\n",
       "      <th></th>\n",
       "      <th></th>\n",
       "    </tr>\n",
       "  </thead>\n",
       "  <tbody>\n",
       "    <tr>\n",
       "      <th>1</th>\n",
       "      <td>3675</td>\n",
       "      <td>3675</td>\n",
       "      <td>3675</td>\n",
       "      <td>3675</td>\n",
       "      <td>0</td>\n",
       "      <td>3675</td>\n",
       "      <td>2670</td>\n",
       "      <td>289</td>\n",
       "      <td>2496</td>\n",
       "      <td>2062</td>\n",
       "      <td>...</td>\n",
       "      <td>13</td>\n",
       "      <td>0</td>\n",
       "      <td>0</td>\n",
       "      <td>0</td>\n",
       "      <td>0</td>\n",
       "      <td>0</td>\n",
       "      <td>0</td>\n",
       "      <td>5</td>\n",
       "      <td>0</td>\n",
       "      <td>0</td>\n",
       "    </tr>\n",
       "    <tr>\n",
       "      <th>2</th>\n",
       "      <td>5072</td>\n",
       "      <td>5072</td>\n",
       "      <td>5072</td>\n",
       "      <td>5072</td>\n",
       "      <td>959</td>\n",
       "      <td>5072</td>\n",
       "      <td>3705</td>\n",
       "      <td>58</td>\n",
       "      <td>3104</td>\n",
       "      <td>0</td>\n",
       "      <td>...</td>\n",
       "      <td>370</td>\n",
       "      <td>693</td>\n",
       "      <td>764</td>\n",
       "      <td>138</td>\n",
       "      <td>619</td>\n",
       "      <td>627</td>\n",
       "      <td>68</td>\n",
       "      <td>2</td>\n",
       "      <td>0</td>\n",
       "      <td>0</td>\n",
       "    </tr>\n",
       "  </tbody>\n",
       "</table>\n",
       "<p>2 rows × 111 columns</p>\n",
       "</div>"
      ],
      "text/plain": [
       "               Immoweb ID  property sub-type  Price  Eur/m2  Extra  Post code  \\\n",
       "Property type                                                                   \n",
       "1                    3675               3675   3675    3675      0       3675   \n",
       "2                    5072               5072   5072    5072    959       5072   \n",
       "\n",
       "               Available as of  Property name  Construction year  Floor  ...  \\\n",
       "Property type                                                            ...   \n",
       "1                         2670            289               2496   2062  ...   \n",
       "2                         3705             58               3104      0  ...   \n",
       "\n",
       "               Professional space surface  Land is facing street  Flat land  \\\n",
       "Property type                                                                 \n",
       "1                                      13                      0          0   \n",
       "2                                     370                    693        764   \n",
       "\n",
       "               Current monthly revenue  Wooded land  Plot at rear  \\\n",
       "Property type                                                       \n",
       "1                                    0            0             0   \n",
       "2                                  138          619           627   \n",
       "\n",
       "               Percentage rented  EPC description  Venue of the sale  \\\n",
       "Property type                                                          \n",
       "1                              0                5                  0   \n",
       "2                             68                2                  0   \n",
       "\n",
       "               Date of the sale  \n",
       "Property type                    \n",
       "1                             0  \n",
       "2                             0  \n",
       "\n",
       "[2 rows x 111 columns]"
      ]
     },
     "execution_count": 318,
     "metadata": {},
     "output_type": "execute_result"
    }
   ],
   "source": [
    "houses['Property type'] = houses['Property type'].map({'APARTMENT': 1, 'HOUSE': 2})\n",
    "houses.groupby(['Property type']).count()"
   ]
  },
  {
   "cell_type": "code",
   "execution_count": 319,
   "id": "c5359638",
   "metadata": {},
   "outputs": [
    {
     "data": {
      "text/plain": [
       "dtype('int64')"
      ]
     },
     "execution_count": 319,
     "metadata": {},
     "output_type": "execute_result"
    }
   ],
   "source": [
    "houses['Property type'] = houses['Property type'].astype('int')\n",
    "houses['Property type'].dtypes"
   ]
  },
  {
   "cell_type": "markdown",
   "id": "84809501",
   "metadata": {},
   "source": [
    "## DILSAD\n",
    "## 13. Bedrooms"
   ]
  },
  {
   "cell_type": "code",
   "execution_count": 320,
   "id": "a8dfc1d7",
   "metadata": {},
   "outputs": [
    {
     "data": {
      "text/html": [
       "<div>\n",
       "<style scoped>\n",
       "    .dataframe tbody tr th:only-of-type {\n",
       "        vertical-align: middle;\n",
       "    }\n",
       "\n",
       "    .dataframe tbody tr th {\n",
       "        vertical-align: top;\n",
       "    }\n",
       "\n",
       "    .dataframe thead th {\n",
       "        text-align: right;\n",
       "    }\n",
       "</style>\n",
       "<table border=\"1\" class=\"dataframe\">\n",
       "  <thead>\n",
       "    <tr style=\"text-align: right;\">\n",
       "      <th></th>\n",
       "      <th>Immoweb ID</th>\n",
       "    </tr>\n",
       "    <tr>\n",
       "      <th>Bedrooms</th>\n",
       "      <th></th>\n",
       "    </tr>\n",
       "  </thead>\n",
       "  <tbody>\n",
       "    <tr>\n",
       "      <th>1</th>\n",
       "      <td>911</td>\n",
       "    </tr>\n",
       "    <tr>\n",
       "      <th>10</th>\n",
       "      <td>62</td>\n",
       "    </tr>\n",
       "    <tr>\n",
       "      <th>100</th>\n",
       "      <td>1</td>\n",
       "    </tr>\n",
       "    <tr>\n",
       "      <th>11</th>\n",
       "      <td>28</td>\n",
       "    </tr>\n",
       "    <tr>\n",
       "      <th>12</th>\n",
       "      <td>20</td>\n",
       "    </tr>\n",
       "    <tr>\n",
       "      <th>13</th>\n",
       "      <td>12</td>\n",
       "    </tr>\n",
       "    <tr>\n",
       "      <th>14</th>\n",
       "      <td>12</td>\n",
       "    </tr>\n",
       "    <tr>\n",
       "      <th>15</th>\n",
       "      <td>8</td>\n",
       "    </tr>\n",
       "    <tr>\n",
       "      <th>16</th>\n",
       "      <td>12</td>\n",
       "    </tr>\n",
       "    <tr>\n",
       "      <th>17</th>\n",
       "      <td>2</td>\n",
       "    </tr>\n",
       "    <tr>\n",
       "      <th>18</th>\n",
       "      <td>4</td>\n",
       "    </tr>\n",
       "    <tr>\n",
       "      <th>19</th>\n",
       "      <td>2</td>\n",
       "    </tr>\n",
       "    <tr>\n",
       "      <th>2</th>\n",
       "      <td>1809</td>\n",
       "    </tr>\n",
       "    <tr>\n",
       "      <th>20</th>\n",
       "      <td>2</td>\n",
       "    </tr>\n",
       "    <tr>\n",
       "      <th>204</th>\n",
       "      <td>1</td>\n",
       "    </tr>\n",
       "    <tr>\n",
       "      <th>21</th>\n",
       "      <td>1</td>\n",
       "    </tr>\n",
       "    <tr>\n",
       "      <th>22</th>\n",
       "      <td>3</td>\n",
       "    </tr>\n",
       "    <tr>\n",
       "      <th>23</th>\n",
       "      <td>2</td>\n",
       "    </tr>\n",
       "    <tr>\n",
       "      <th>25</th>\n",
       "      <td>2</td>\n",
       "    </tr>\n",
       "    <tr>\n",
       "      <th>26</th>\n",
       "      <td>1</td>\n",
       "    </tr>\n",
       "    <tr>\n",
       "      <th>27</th>\n",
       "      <td>1</td>\n",
       "    </tr>\n",
       "    <tr>\n",
       "      <th>28</th>\n",
       "      <td>1</td>\n",
       "    </tr>\n",
       "    <tr>\n",
       "      <th>3</th>\n",
       "      <td>2111</td>\n",
       "    </tr>\n",
       "    <tr>\n",
       "      <th>30</th>\n",
       "      <td>1</td>\n",
       "    </tr>\n",
       "    <tr>\n",
       "      <th>36</th>\n",
       "      <td>2</td>\n",
       "    </tr>\n",
       "    <tr>\n",
       "      <th>38</th>\n",
       "      <td>1</td>\n",
       "    </tr>\n",
       "    <tr>\n",
       "      <th>39</th>\n",
       "      <td>1</td>\n",
       "    </tr>\n",
       "    <tr>\n",
       "      <th>4</th>\n",
       "      <td>1485</td>\n",
       "    </tr>\n",
       "    <tr>\n",
       "      <th>46</th>\n",
       "      <td>1</td>\n",
       "    </tr>\n",
       "    <tr>\n",
       "      <th>5</th>\n",
       "      <td>813</td>\n",
       "    </tr>\n",
       "    <tr>\n",
       "      <th>50</th>\n",
       "      <td>1</td>\n",
       "    </tr>\n",
       "    <tr>\n",
       "      <th>6</th>\n",
       "      <td>456</td>\n",
       "    </tr>\n",
       "    <tr>\n",
       "      <th>7</th>\n",
       "      <td>162</td>\n",
       "    </tr>\n",
       "    <tr>\n",
       "      <th>70</th>\n",
       "      <td>1</td>\n",
       "    </tr>\n",
       "    <tr>\n",
       "      <th>8</th>\n",
       "      <td>119</td>\n",
       "    </tr>\n",
       "    <tr>\n",
       "      <th>9</th>\n",
       "      <td>56</td>\n",
       "    </tr>\n",
       "    <tr>\n",
       "      <th>90</th>\n",
       "      <td>1</td>\n",
       "    </tr>\n",
       "    <tr>\n",
       "      <th>94</th>\n",
       "      <td>1</td>\n",
       "    </tr>\n",
       "  </tbody>\n",
       "</table>\n",
       "</div>"
      ],
      "text/plain": [
       "          Immoweb ID\n",
       "Bedrooms            \n",
       "1                911\n",
       "10                62\n",
       "100                1\n",
       "11                28\n",
       "12                20\n",
       "13                12\n",
       "14                12\n",
       "15                 8\n",
       "16                12\n",
       "17                 2\n",
       "18                 4\n",
       "19                 2\n",
       "2               1809\n",
       "20                 2\n",
       "204                1\n",
       "21                 1\n",
       "22                 3\n",
       "23                 2\n",
       "25                 2\n",
       "26                 1\n",
       "27                 1\n",
       "28                 1\n",
       "3               2111\n",
       "30                 1\n",
       "36                 2\n",
       "38                 1\n",
       "39                 1\n",
       "4               1485\n",
       "46                 1\n",
       "5                813\n",
       "50                 1\n",
       "6                456\n",
       "7                162\n",
       "70                 1\n",
       "8                119\n",
       "9                 56\n",
       "90                 1\n",
       "94                 1"
      ]
     },
     "execution_count": 320,
     "metadata": {},
     "output_type": "execute_result"
    }
   ],
   "source": [
    "houses.groupby(['Bedrooms']).count().iloc[:,:1]"
   ]
  },
  {
   "cell_type": "code",
   "execution_count": 321,
   "id": "963797a4",
   "metadata": {},
   "outputs": [
    {
     "data": {
      "text/plain": [
       "638"
      ]
     },
     "execution_count": 321,
     "metadata": {},
     "output_type": "execute_result"
    }
   ],
   "source": [
    "houses['Bedrooms'].isnull().sum()"
   ]
  },
  {
   "cell_type": "code",
   "execution_count": 322,
   "id": "7f9d0234",
   "metadata": {},
   "outputs": [
    {
     "data": {
      "text/plain": [
       "7.293929347204756"
      ]
     },
     "execution_count": 322,
     "metadata": {},
     "output_type": "execute_result"
    }
   ],
   "source": [
    "houses['Bedrooms'].isnull().sum()*100/len(houses)"
   ]
  },
  {
   "cell_type": "markdown",
   "id": "6a597a4d",
   "metadata": {},
   "source": [
    "The missing value percentage is 7.63 which is quite good!"
   ]
  },
  {
   "cell_type": "code",
   "execution_count": 323,
   "id": "a4c968ef",
   "metadata": {},
   "outputs": [
    {
     "name": "stderr",
     "output_type": "stream",
     "text": [
      "/var/folders/6r/0sxxkqln2g73tp73l2p7xx200000gn/T/ipykernel_1982/725562088.py:2: SettingWithCopyWarning: \n",
      "A value is trying to be set on a copy of a slice from a DataFrame.\n",
      "Try using .loc[row_indexer,col_indexer] = value instead\n",
      "\n",
      "See the caveats in the documentation: https://pandas.pydata.org/pandas-docs/stable/user_guide/indexing.html#returning-a-view-versus-a-copy\n",
      "  bedroom_dropna['Bedrooms'] = bedroom_dropna['Bedrooms'].astype('int64')\n"
     ]
    }
   ],
   "source": [
    "bedroom_dropna = houses.loc[pd.notna(houses['Bedrooms'])]\n",
    "bedroom_dropna['Bedrooms'] = bedroom_dropna['Bedrooms'].astype('int64')"
   ]
  },
  {
   "cell_type": "code",
   "execution_count": 324,
   "id": "a0d5836f",
   "metadata": {},
   "outputs": [
    {
     "data": {
      "text/plain": [
       "dtype('int64')"
      ]
     },
     "execution_count": 324,
     "metadata": {},
     "output_type": "execute_result"
    }
   ],
   "source": [
    "bedroom_dropna.Bedrooms.dtype"
   ]
  },
  {
   "cell_type": "code",
   "execution_count": 325,
   "id": "62fa8990",
   "metadata": {},
   "outputs": [
    {
     "data": {
      "text/plain": [
       "0.40717322733729633"
      ]
     },
     "execution_count": 325,
     "metadata": {},
     "output_type": "execute_result"
    }
   ],
   "source": [
    "corr = bedroom_dropna['Price'].corr(bedroom_dropna['Bedrooms'], method='pearson')\n",
    "corr"
   ]
  },
  {
   "cell_type": "markdown",
   "id": "0ddced1c",
   "metadata": {},
   "source": [
    "The correlation between the price and bedroom number is 0.4 which means there is a moderate correlation between two variables."
   ]
  },
  {
   "cell_type": "code",
   "execution_count": 326,
   "id": "b02f1158",
   "metadata": {},
   "outputs": [
    {
     "data": {
      "text/plain": [
       "count    8109.000000\n",
       "mean        3.610556\n",
       "std         3.815848\n",
       "min         1.000000\n",
       "25%         2.000000\n",
       "50%         3.000000\n",
       "75%         4.000000\n",
       "max       204.000000\n",
       "Name: Bedrooms, dtype: float64"
      ]
     },
     "execution_count": 326,
     "metadata": {},
     "output_type": "execute_result"
    }
   ],
   "source": [
    "bedroom_dropna['Bedrooms'].describe()"
   ]
  },
  {
   "cell_type": "code",
   "execution_count": 327,
   "id": "d5e237c1",
   "metadata": {},
   "outputs": [
    {
     "data": {
      "image/png": "[encoded data removed]",
      "text/plain": [
       "<Figure size 432x288 with 1 Axes>"
      ]
     },
     "metadata": {},
     "output_type": "display_data"
    }
   ],
   "source": [
    "x = bedroom_dropna['Bedrooms']\n",
    "y = bedroom_dropna['Price']\n",
    "plt.scatter(x, y)\n",
    "plt.xlabel('Number of Bedrooms')\n",
    "plt.ylabel('Price')\n",
    "plt.title('Number of Bedroom vs Price')\n",
    "plt.show()"
   ]
  },
  {
   "cell_type": "markdown",
   "id": "6b024fa5",
   "metadata": {},
   "source": [
    "## 14. Garden"
   ]
  },
  {
   "cell_type": "code",
   "execution_count": 328,
   "id": "b9e3023f",
   "metadata": {},
   "outputs": [
    {
     "data": {
      "text/html": [
       "<div>\n",
       "<style scoped>\n",
       "    .dataframe tbody tr th:only-of-type {\n",
       "        vertical-align: middle;\n",
       "    }\n",
       "\n",
       "    .dataframe tbody tr th {\n",
       "        vertical-align: top;\n",
       "    }\n",
       "\n",
       "    .dataframe thead th {\n",
       "        text-align: right;\n",
       "    }\n",
       "</style>\n",
       "<table border=\"1\" class=\"dataframe\">\n",
       "  <thead>\n",
       "    <tr style=\"text-align: right;\">\n",
       "      <th></th>\n",
       "      <th>Immoweb ID</th>\n",
       "    </tr>\n",
       "    <tr>\n",
       "      <th>Garden</th>\n",
       "      <th></th>\n",
       "    </tr>\n",
       "  </thead>\n",
       "  <tbody>\n",
       "    <tr>\n",
       "      <th>Yes</th>\n",
       "      <td>848</td>\n",
       "    </tr>\n",
       "  </tbody>\n",
       "</table>\n",
       "</div>"
      ],
      "text/plain": [
       "        Immoweb ID\n",
       "Garden            \n",
       "Yes            848"
      ]
     },
     "execution_count": 328,
     "metadata": {},
     "output_type": "execute_result"
    }
   ],
   "source": [
    "houses.groupby(['Garden']).count().iloc[:,:1]"
   ]
  },
  {
   "cell_type": "code",
   "execution_count": 329,
   "id": "a9084319",
   "metadata": {},
   "outputs": [
    {
     "data": {
      "text/plain": [
       "0      NaN\n",
       "3      NaN\n",
       "4      NaN\n",
       "5      NaN\n",
       "6      NaN\n",
       "      ... \n",
       "469    NaN\n",
       "486    NaN\n",
       "489    NaN\n",
       "491    NaN\n",
       "492    NaN\n",
       "Name: Garden, Length: 8747, dtype: object"
      ]
     },
     "execution_count": 329,
     "metadata": {},
     "output_type": "execute_result"
    }
   ],
   "source": [
    "houses.loc[:, 'Garden']"
   ]
  },
  {
   "cell_type": "code",
   "execution_count": 330,
   "id": "1ff216d8",
   "metadata": {},
   "outputs": [
    {
     "data": {
      "text/plain": [
       "array([nan, 'Yes'], dtype=object)"
      ]
     },
     "execution_count": 330,
     "metadata": {},
     "output_type": "execute_result"
    }
   ],
   "source": [
    "gar_uniq = houses['Garden'].unique()\n",
    "gar_uniq"
   ]
  },
  {
   "cell_type": "code",
   "execution_count": 331,
   "id": "7e2dce11",
   "metadata": {},
   "outputs": [
    {
     "data": {
      "text/plain": [
       "7899"
      ]
     },
     "execution_count": 331,
     "metadata": {},
     "output_type": "execute_result"
    }
   ],
   "source": [
    "houses.Garden.isnull().sum()"
   ]
  },
  {
   "cell_type": "code",
   "execution_count": 332,
   "id": "6cd758da",
   "metadata": {},
   "outputs": [
    {
     "data": {
      "text/plain": [
       "90.30524751343317"
      ]
     },
     "execution_count": 332,
     "metadata": {},
     "output_type": "execute_result"
    }
   ],
   "source": [
    "houses.Garden.isnull().sum()*100/len(houses)"
   ]
  },
  {
   "cell_type": "markdown",
   "id": "5a5c65f2",
   "metadata": {},
   "source": [
    "The percentage of missing value is 90%, it is quite high"
   ]
  },
  {
   "cell_type": "code",
   "execution_count": 333,
   "id": "7a76c391",
   "metadata": {},
   "outputs": [
    {
     "name": "stdout",
     "output_type": "stream",
     "text": [
      "7899\n",
      "6656\n"
     ]
    }
   ],
   "source": [
    "print(houses['Garden'].isnull().sum())\n",
    "print(houses['Garden surface'].isnull().sum())\n",
    "\n",
    "houses['Garden'] = houses['Garden'].fillna(houses['Garden surface'].notnull())"
   ]
  },
  {
   "cell_type": "markdown",
   "id": "008d1009",
   "metadata": {},
   "source": [
    "Although there are missing values in Garden column there are values in the related index of Garden surface column. Therefore I filled these data points as binary value according to Garden surface column."
   ]
  },
  {
   "cell_type": "code",
   "execution_count": 334,
   "id": "06c06209",
   "metadata": {},
   "outputs": [
    {
     "data": {
      "text/plain": [
       "array([ 0.,  1., nan])"
      ]
     },
     "execution_count": 334,
     "metadata": {},
     "output_type": "execute_result"
    }
   ],
   "source": [
    "def garden_conv(value : str) -> int:\n",
    "    if value == False: \n",
    "        return 0\n",
    "    elif value == True:\n",
    "        return 1\n",
    "\n",
    "houses['Garden'] = houses['Garden'].apply(garden_conv)\n",
    "houses['Garden'].unique()"
   ]
  },
  {
   "cell_type": "markdown",
   "id": "6b9a7900",
   "metadata": {},
   "source": [
    "## 15. Garden Surface"
   ]
  },
  {
   "cell_type": "code",
   "execution_count": 335,
   "id": "8eb034ab",
   "metadata": {},
   "outputs": [
    {
     "data": {
      "text/plain": [
       "Garden surface\n",
       "1        0\n",
       "10       0\n",
       "100      0\n",
       "1000     0\n",
       "10000    0\n",
       "        ..\n",
       "985      0\n",
       "99       0\n",
       "990      0\n",
       "991      0\n",
       "997      0\n",
       "Name: Date of the sale, Length: 630, dtype: int64"
      ]
     },
     "execution_count": 335,
     "metadata": {},
     "output_type": "execute_result"
    }
   ],
   "source": [
    "houses.groupby(['Garden surface']).count().iloc[:, -1]"
   ]
  },
  {
   "cell_type": "code",
   "execution_count": 336,
   "id": "667a276a",
   "metadata": {},
   "outputs": [
    {
     "data": {
      "text/plain": [
       "6656"
      ]
     },
     "execution_count": 336,
     "metadata": {},
     "output_type": "execute_result"
    }
   ],
   "source": [
    "houses['Garden surface'].isnull().sum()"
   ]
  },
  {
   "cell_type": "markdown",
   "id": "0d3e98f9",
   "metadata": {},
   "source": [
    "The percentage of missing value is 77.66"
   ]
  },
  {
   "cell_type": "markdown",
   "id": "6fcc78d3",
   "metadata": {},
   "source": [
    "## THE FINAL RESULT"
   ]
  },
  {
   "cell_type": "code",
   "execution_count": 337,
   "id": "c57f2796",
   "metadata": {},
   "outputs": [
    {
     "name": "stdout",
     "output_type": "stream",
     "text": [
      "<class 'pandas.core.frame.DataFrame'>\n",
      "Int64Index: 8747 entries, 0 to 492\n",
      "Columns: 112 entries, Immoweb ID to Date of the sale\n",
      "dtypes: float64(8), int64(4), object(100)\n",
      "memory usage: 7.5+ MB\n"
     ]
    }
   ],
   "source": [
    "houses.info()"
   ]
  },
  {
   "cell_type": "markdown",
   "id": "794cab54",
   "metadata": {},
   "source": [
    "Pearson Method\n",
    "\n",
    "The method gives information about the correlation, as well as the direction of the relationship between two continous variables\n",
    "\n"
   ]
  },
  {
   "cell_type": "code",
   "execution_count": 338,
   "id": "eb3da1dd",
   "metadata": {},
   "outputs": [
    {
     "data": {
      "text/html": [
       "<div>\n",
       "<style scoped>\n",
       "    .dataframe tbody tr th:only-of-type {\n",
       "        vertical-align: middle;\n",
       "    }\n",
       "\n",
       "    .dataframe tbody tr th {\n",
       "        vertical-align: top;\n",
       "    }\n",
       "\n",
       "    .dataframe thead th {\n",
       "        text-align: right;\n",
       "    }\n",
       "</style>\n",
       "<table border=\"1\" class=\"dataframe\">\n",
       "  <thead>\n",
       "    <tr style=\"text-align: right;\">\n",
       "      <th></th>\n",
       "      <th>Property type</th>\n",
       "      <th>Price</th>\n",
       "      <th>Eur/m2</th>\n",
       "      <th>Extra</th>\n",
       "      <th>Building condition</th>\n",
       "      <th>Living area</th>\n",
       "      <th>Kitchen type</th>\n",
       "      <th>Energy class</th>\n",
       "      <th>Double glazing</th>\n",
       "      <th>Swimming pool</th>\n",
       "      <th>Garden</th>\n",
       "      <th>Surface of the plot</th>\n",
       "    </tr>\n",
       "  </thead>\n",
       "  <tbody>\n",
       "    <tr>\n",
       "      <th>Property type</th>\n",
       "      <td>1.000000</td>\n",
       "      <td>0.408049</td>\n",
       "      <td>-0.438960</td>\n",
       "      <td>NaN</td>\n",
       "      <td>-0.288569</td>\n",
       "      <td>0.682747</td>\n",
       "      <td>-0.128250</td>\n",
       "      <td>-0.252512</td>\n",
       "      <td>0.033373</td>\n",
       "      <td>0.285247</td>\n",
       "      <td>0.256189</td>\n",
       "      <td>NaN</td>\n",
       "    </tr>\n",
       "    <tr>\n",
       "      <th>Price</th>\n",
       "      <td>0.408049</td>\n",
       "      <td>1.000000</td>\n",
       "      <td>0.213465</td>\n",
       "      <td>0.509552</td>\n",
       "      <td>0.140485</td>\n",
       "      <td>0.750613</td>\n",
       "      <td>0.218501</td>\n",
       "      <td>0.093548</td>\n",
       "      <td>0.047464</td>\n",
       "      <td>0.312875</td>\n",
       "      <td>0.145234</td>\n",
       "      <td>0.363192</td>\n",
       "    </tr>\n",
       "    <tr>\n",
       "      <th>Eur/m2</th>\n",
       "      <td>-0.438960</td>\n",
       "      <td>0.213465</td>\n",
       "      <td>1.000000</td>\n",
       "      <td>0.310110</td>\n",
       "      <td>0.362088</td>\n",
       "      <td>-0.404978</td>\n",
       "      <td>0.244526</td>\n",
       "      <td>0.213331</td>\n",
       "      <td>-0.019433</td>\n",
       "      <td>-0.018140</td>\n",
       "      <td>-0.101446</td>\n",
       "      <td>0.135638</td>\n",
       "    </tr>\n",
       "    <tr>\n",
       "      <th>Extra</th>\n",
       "      <td>NaN</td>\n",
       "      <td>0.509552</td>\n",
       "      <td>0.310110</td>\n",
       "      <td>1.000000</td>\n",
       "      <td>0.405861</td>\n",
       "      <td>0.399165</td>\n",
       "      <td>0.640148</td>\n",
       "      <td>0.572573</td>\n",
       "      <td>0.169639</td>\n",
       "      <td>0.734919</td>\n",
       "      <td>0.014087</td>\n",
       "      <td>0.443012</td>\n",
       "    </tr>\n",
       "    <tr>\n",
       "      <th>Building condition</th>\n",
       "      <td>-0.288569</td>\n",
       "      <td>0.140485</td>\n",
       "      <td>0.362088</td>\n",
       "      <td>0.405861</td>\n",
       "      <td>1.000000</td>\n",
       "      <td>-0.124076</td>\n",
       "      <td>0.334614</td>\n",
       "      <td>0.444497</td>\n",
       "      <td>0.056645</td>\n",
       "      <td>0.033963</td>\n",
       "      <td>-0.013448</td>\n",
       "      <td>0.119498</td>\n",
       "    </tr>\n",
       "    <tr>\n",
       "      <th>Living area</th>\n",
       "      <td>0.682747</td>\n",
       "      <td>0.750613</td>\n",
       "      <td>-0.404978</td>\n",
       "      <td>0.399165</td>\n",
       "      <td>-0.124076</td>\n",
       "      <td>1.000000</td>\n",
       "      <td>0.029144</td>\n",
       "      <td>-0.062617</td>\n",
       "      <td>0.038745</td>\n",
       "      <td>0.339062</td>\n",
       "      <td>0.191199</td>\n",
       "      <td>0.330659</td>\n",
       "    </tr>\n",
       "    <tr>\n",
       "      <th>Kitchen type</th>\n",
       "      <td>-0.128250</td>\n",
       "      <td>0.218501</td>\n",
       "      <td>0.244526</td>\n",
       "      <td>0.640148</td>\n",
       "      <td>0.334614</td>\n",
       "      <td>0.029144</td>\n",
       "      <td>1.000000</td>\n",
       "      <td>0.177811</td>\n",
       "      <td>0.085213</td>\n",
       "      <td>0.072778</td>\n",
       "      <td>0.008195</td>\n",
       "      <td>0.079885</td>\n",
       "    </tr>\n",
       "    <tr>\n",
       "      <th>Energy class</th>\n",
       "      <td>-0.252512</td>\n",
       "      <td>0.093548</td>\n",
       "      <td>0.213331</td>\n",
       "      <td>0.572573</td>\n",
       "      <td>0.444497</td>\n",
       "      <td>-0.062617</td>\n",
       "      <td>0.177811</td>\n",
       "      <td>1.000000</td>\n",
       "      <td>0.018320</td>\n",
       "      <td>0.099792</td>\n",
       "      <td>-0.062019</td>\n",
       "      <td>0.073099</td>\n",
       "    </tr>\n",
       "    <tr>\n",
       "      <th>Double glazing</th>\n",
       "      <td>0.033373</td>\n",
       "      <td>0.047464</td>\n",
       "      <td>-0.019433</td>\n",
       "      <td>0.169639</td>\n",
       "      <td>0.056645</td>\n",
       "      <td>0.038745</td>\n",
       "      <td>0.085213</td>\n",
       "      <td>0.018320</td>\n",
       "      <td>1.000000</td>\n",
       "      <td>0.074650</td>\n",
       "      <td>0.064485</td>\n",
       "      <td>-0.014017</td>\n",
       "    </tr>\n",
       "    <tr>\n",
       "      <th>Swimming pool</th>\n",
       "      <td>0.285247</td>\n",
       "      <td>0.312875</td>\n",
       "      <td>-0.018140</td>\n",
       "      <td>0.734919</td>\n",
       "      <td>0.033963</td>\n",
       "      <td>0.339062</td>\n",
       "      <td>0.072778</td>\n",
       "      <td>0.099792</td>\n",
       "      <td>0.074650</td>\n",
       "      <td>1.000000</td>\n",
       "      <td>0.083228</td>\n",
       "      <td>0.458628</td>\n",
       "    </tr>\n",
       "    <tr>\n",
       "      <th>Garden</th>\n",
       "      <td>0.256189</td>\n",
       "      <td>0.145234</td>\n",
       "      <td>-0.101446</td>\n",
       "      <td>0.014087</td>\n",
       "      <td>-0.013448</td>\n",
       "      <td>0.191199</td>\n",
       "      <td>0.008195</td>\n",
       "      <td>-0.062019</td>\n",
       "      <td>0.064485</td>\n",
       "      <td>0.083228</td>\n",
       "      <td>1.000000</td>\n",
       "      <td>0.086461</td>\n",
       "    </tr>\n",
       "    <tr>\n",
       "      <th>Surface of the plot</th>\n",
       "      <td>NaN</td>\n",
       "      <td>0.363192</td>\n",
       "      <td>0.135638</td>\n",
       "      <td>0.443012</td>\n",
       "      <td>0.119498</td>\n",
       "      <td>0.330659</td>\n",
       "      <td>0.079885</td>\n",
       "      <td>0.073099</td>\n",
       "      <td>-0.014017</td>\n",
       "      <td>0.458628</td>\n",
       "      <td>0.086461</td>\n",
       "      <td>1.000000</td>\n",
       "    </tr>\n",
       "  </tbody>\n",
       "</table>\n",
       "</div>"
      ],
      "text/plain": [
       "                     Property type     Price    Eur/m2     Extra  \\\n",
       "Property type             1.000000  0.408049 -0.438960       NaN   \n",
       "Price                     0.408049  1.000000  0.213465  0.509552   \n",
       "Eur/m2                   -0.438960  0.213465  1.000000  0.310110   \n",
       "Extra                          NaN  0.509552  0.310110  1.000000   \n",
       "Building condition       -0.288569  0.140485  0.362088  0.405861   \n",
       "Living area               0.682747  0.750613 -0.404978  0.399165   \n",
       "Kitchen type             -0.128250  0.218501  0.244526  0.640148   \n",
       "Energy class             -0.252512  0.093548  0.213331  0.572573   \n",
       "Double glazing            0.033373  0.047464 -0.019433  0.169639   \n",
       "Swimming pool             0.285247  0.312875 -0.018140  0.734919   \n",
       "Garden                    0.256189  0.145234 -0.101446  0.014087   \n",
       "Surface of the plot            NaN  0.363192  0.135638  0.443012   \n",
       "\n",
       "                     Building condition  Living area  Kitchen type  \\\n",
       "Property type                 -0.288569     0.682747     -0.128250   \n",
       "Price                          0.140485     0.750613      0.218501   \n",
       "Eur/m2                         0.362088    -0.404978      0.244526   \n",
       "Extra                          0.405861     0.399165      0.640148   \n",
       "Building condition             1.000000    -0.124076      0.334614   \n",
       "Living area                   -0.124076     1.000000      0.029144   \n",
       "Kitchen type                   0.334614     0.029144      1.000000   \n",
       "Energy class                   0.444497    -0.062617      0.177811   \n",
       "Double glazing                 0.056645     0.038745      0.085213   \n",
       "Swimming pool                  0.033963     0.339062      0.072778   \n",
       "Garden                        -0.013448     0.191199      0.008195   \n",
       "Surface of the plot            0.119498     0.330659      0.079885   \n",
       "\n",
       "                     Energy class  Double glazing  Swimming pool    Garden  \\\n",
       "Property type           -0.252512        0.033373       0.285247  0.256189   \n",
       "Price                    0.093548        0.047464       0.312875  0.145234   \n",
       "Eur/m2                   0.213331       -0.019433      -0.018140 -0.101446   \n",
       "Extra                    0.572573        0.169639       0.734919  0.014087   \n",
       "Building condition       0.444497        0.056645       0.033963 -0.013448   \n",
       "Living area             -0.062617        0.038745       0.339062  0.191199   \n",
       "Kitchen type             0.177811        0.085213       0.072778  0.008195   \n",
       "Energy class             1.000000        0.018320       0.099792 -0.062019   \n",
       "Double glazing           0.018320        1.000000       0.074650  0.064485   \n",
       "Swimming pool            0.099792        0.074650       1.000000  0.083228   \n",
       "Garden                  -0.062019        0.064485       0.083228  1.000000   \n",
       "Surface of the plot      0.073099       -0.014017       0.458628  0.086461   \n",
       "\n",
       "                     Surface of the plot  \n",
       "Property type                        NaN  \n",
       "Price                           0.363192  \n",
       "Eur/m2                          0.135638  \n",
       "Extra                           0.443012  \n",
       "Building condition              0.119498  \n",
       "Living area                     0.330659  \n",
       "Kitchen type                    0.079885  \n",
       "Energy class                    0.073099  \n",
       "Double glazing                 -0.014017  \n",
       "Swimming pool                   0.458628  \n",
       "Garden                          0.086461  \n",
       "Surface of the plot             1.000000  "
      ]
     },
     "execution_count": 338,
     "metadata": {},
     "output_type": "execute_result"
    }
   ],
   "source": [
    "a = houses.corr(method = 'spearman', min_periods = 1)\n",
    "a\n"
   ]
  },
  {
   "cell_type": "code",
   "execution_count": 339,
   "id": "942187a8",
   "metadata": {},
   "outputs": [
    {
     "data": {
      "text/plain": [
       "Price                  1.000000\n",
       "Living area            0.750613\n",
       "Extra                  0.509552\n",
       "Property type          0.408049\n",
       "Surface of the plot    0.363192\n",
       "Swimming pool          0.312875\n",
       "Kitchen type           0.218501\n",
       "Eur/m2                 0.213465\n",
       "Garden                 0.145234\n",
       "Building condition     0.140485\n",
       "Energy class           0.093548\n",
       "Double glazing         0.047464\n",
       "Name: Price, dtype: float64"
      ]
     },
     "execution_count": 339,
     "metadata": {},
     "output_type": "execute_result"
    }
   ],
   "source": [
    "a['Price'].sort_values(ascending = False)"
   ]
  },
  {
   "cell_type": "code",
   "execution_count": 340,
   "id": "4a6f0b5e",
   "metadata": {},
   "outputs": [
    {
     "data": {
      "image/png": "[encoded data removed]",
      "text/plain": [
       "<Figure size 936x432 with 2 Axes>"
      ]
     },
     "metadata": {},
     "output_type": "display_data"
    }
   ],
   "source": [
    "plt.figure(figsize=(13, 6))\n",
    "sns.heatmap(a, vmax=1, annot=True, linewidths=.5,  cmap=\"Blues\")\n",
    "plt.xticks(rotation=30, horizontalalignment='right')\n",
    "plt.show()\n",
    "\n",
    "\n"
   ]
  },
  {
   "cell_type": "code",
   "execution_count": 341,
   "id": "110d70c1",
   "metadata": {},
   "outputs": [
    {
     "data": {
      "text/plain": [
       "Text(0, 0.5, 'Price')"
      ]
     },
     "execution_count": 341,
     "metadata": {},
     "output_type": "execute_result"
    },
    {
     "data": {
      "image/png": "[encoded data removed]",
      "text/plain": [
       "<Figure size 432x288 with 1 Axes>"
      ]
     },
     "metadata": {},
     "output_type": "display_data"
    }
   ],
   "source": [
    "import seaborn as sns\n",
    "import matplotlib.pyplot as plt\n",
    "plt.style.use('dark_background')\n",
    "ax = a.plot.scatter(x='Energy class', y='Price', sharex=False)\n",
    "ax.set_xlabel('Energy class')\n",
    "ax.set_ylabel('Price')"
   ]
  },
  {
   "cell_type": "code",
   "execution_count": 342,
   "id": "176d72d7",
   "metadata": {},
   "outputs": [
    {
     "data": {
      "image/png": "[encoded data removed]",
      "text/plain": [
       "<Figure size 360x360 with 1 Axes>"
      ]
     },
     "metadata": {},
     "output_type": "display_data"
    }
   ],
   "source": [
    "import seaborn as sns\n",
    "plt.style.use('dark_background')\n",
    "ax = sns.lmplot(x='Energy class', y='Price', data=a)\n"
   ]
  },
  {
   "cell_type": "code",
   "execution_count": 343,
   "id": "f68be2f6",
   "metadata": {},
   "outputs": [
    {
     "data": {
      "image/png": "[encoded data removed]",
      "text/plain": [
       "<Figure size 360x360 with 1 Axes>"
      ]
     },
     "metadata": {},
     "output_type": "display_data"
    }
   ],
   "source": [
    "import seaborn as sns\n",
    "plt.style.use('dark_background')\n",
    "ax = sns.lmplot(x='Property type', y='Price', data=a)"
   ]
  },
  {
   "cell_type": "code",
   "execution_count": 344,
   "id": "b925d701",
   "metadata": {},
   "outputs": [
    {
     "data": {
      "image/png": "[encoded data removed]",
      "text/plain": [
       "<Figure size 360x360 with 1 Axes>"
      ]
     },
     "metadata": {},
     "output_type": "display_data"
    }
   ],
   "source": [
    "import seaborn as sns\n",
    "plt.style.use('dark_background')\n",
    "ax = sns.lmplot(x='Eur/m2', y='Price', data=a)"
   ]
  },
  {
   "cell_type": "code",
   "execution_count": 345,
   "id": "8eca6b0d",
   "metadata": {},
   "outputs": [
    {
     "data": {
      "image/png": "[encoded data removed]",
      "text/plain": [
       "<Figure size 360x360 with 1 Axes>"
      ]
     },
     "metadata": {},
     "output_type": "display_data"
    }
   ],
   "source": [
    "import seaborn as sns\n",
    "plt.style.use('dark_background')\n",
    "ax = sns.lmplot(x='Extra', y='Price', data=a)"
   ]
  },
  {
   "cell_type": "code",
   "execution_count": 346,
   "id": "008537b4",
   "metadata": {},
   "outputs": [
    {
     "data": {
      "text/plain": [
       "\"import seaborn as sns\\nplt.style.use('dark_background')\\nax = sns.lmplot(x='Municipality', y='Price', data=a)\""
      ]
     },
     "execution_count": 346,
     "metadata": {},
     "output_type": "execute_result"
    }
   ],
   "source": [
    "\"\"\"import seaborn as sns\n",
    "plt.style.use('dark_background')\n",
    "ax = sns.lmplot(x='Municipality', y='Price', data=a)\"\"\"\n",
    "\n"
   ]
  },
  {
   "cell_type": "code",
   "execution_count": 347,
   "id": "ba4f0c30",
   "metadata": {},
   "outputs": [
    {
     "data": {
      "text/plain": [
       "\"import seaborn as sns\\nplt.style.use('dark_background')\\nax = sns.lmplot(x='Construction year', y='Price', data=a)\""
      ]
     },
     "execution_count": 347,
     "metadata": {},
     "output_type": "execute_result"
    }
   ],
   "source": [
    "\"\"\"import seaborn as sns\n",
    "plt.style.use('dark_background')\n",
    "ax = sns.lmplot(x='Construction year', y='Price', data=a)\"\"\""
   ]
  },
  {
   "cell_type": "code",
   "execution_count": 348,
   "id": "9682d6e8",
   "metadata": {},
   "outputs": [
    {
     "data": {
      "image/png": "[encoded data removed]",
      "text/plain": [
       "<Figure size 360x360 with 1 Axes>"
      ]
     },
     "metadata": {},
     "output_type": "display_data"
    }
   ],
   "source": [
    "import seaborn as sns\n",
    "plt.style.use('dark_background')\n",
    "ax = sns.lmplot(x='Building condition', y='Price', data=a)"
   ]
  },
  {
   "cell_type": "code",
   "execution_count": 349,
   "id": "4454fe5d",
   "metadata": {},
   "outputs": [
    {
     "data": {
      "image/png": "[encoded data removed]",
      "text/plain": [
       "<Figure size 360x360 with 1 Axes>"
      ]
     },
     "metadata": {},
     "output_type": "display_data"
    }
   ],
   "source": [
    "import seaborn as sns\n",
    "plt.style.use('dark_background')\n",
    "ax = sns.lmplot(x='Living area', y='Price', data=a)"
   ]
  },
  {
   "cell_type": "code",
   "execution_count": 350,
   "id": "aa87d40d",
   "metadata": {},
   "outputs": [
    {
     "data": {
      "image/png": "[encoded data removed]",
      "text/plain": [
       "<Figure size 360x360 with 1 Axes>"
      ]
     },
     "metadata": {},
     "output_type": "display_data"
    }
   ],
   "source": [
    "import seaborn as sns\n",
    "plt.style.use('dark_background')\n",
    "ax = sns.lmplot(x='Kitchen type', y='Price', data=a)"
   ]
  },
  {
   "cell_type": "code",
   "execution_count": 351,
   "id": "3553e46e",
   "metadata": {},
   "outputs": [
    {
     "data": {
      "text/plain": [
       "\"import seaborn as sns\\nplt.style.use('dark_background')\\nax = sns.lmplot(x='Terrace surface', y='Price', data=a)\""
      ]
     },
     "execution_count": 351,
     "metadata": {},
     "output_type": "execute_result"
    }
   ],
   "source": [
    "\"\"\"import seaborn as sns\n",
    "plt.style.use('dark_background')\n",
    "ax = sns.lmplot(x='Terrace surface', y='Price', data=a)\"\"\""
   ]
  },
  {
   "cell_type": "code",
   "execution_count": 352,
   "id": "f8a37fae",
   "metadata": {},
   "outputs": [
    {
     "data": {
      "image/png": "[encoded data removed]",
      "text/plain": [
       "<Figure size 360x360 with 1 Axes>"
      ]
     },
     "metadata": {},
     "output_type": "display_data"
    }
   ],
   "source": [
    "import seaborn as sns\n",
    "plt.style.use('dark_background')\n",
    "ax = sns.lmplot(x='Swimming pool', y='Price', data=a)"
   ]
  },
  {
   "cell_type": "code",
   "execution_count": 353,
   "id": "a51c5220",
   "metadata": {},
   "outputs": [
    {
     "data": {
      "image/png": "[encoded data removed]",
      "text/plain": [
       "<Figure size 360x360 with 1 Axes>"
      ]
     },
     "metadata": {},
     "output_type": "display_data"
    }
   ],
   "source": [
    "import seaborn as sns\n",
    "plt.style.use('dark_background')\n",
    "ax = sns.lmplot(x='Garden', y='Price', data=a)"
   ]
  },
  {
   "cell_type": "code",
   "execution_count": 354,
   "id": "4614c0ee",
   "metadata": {},
   "outputs": [
    {
     "data": {
      "image/png": "[encoded data removed]",
      "text/plain": [
       "<Figure size 360x360 with 1 Axes>"
      ]
     },
     "metadata": {},
     "output_type": "display_data"
    }
   ],
   "source": [
    "import seaborn as sns\n",
    "plt.style.use('dark_background')\n",
    "ax = sns.lmplot(x='Surface of the plot', y='Price', data=a)"
   ]
  },
  {
   "cell_type": "markdown",
   "id": "111ab262",
   "metadata": {},
   "source": [
    "Spearman Method\n",
    "\n",
    "The method determines the strength and direction of the monotonic relationship between two variables. A monotonic relationship is a relationship that does one of the following: (1) as the value of one variable increases, so does the value of the other variable; or (2) as the value of one variable increases, the other variable value decreases"
   ]
  },
  {
   "cell_type": "code",
   "execution_count": 355,
   "id": "74c71b08",
   "metadata": {},
   "outputs": [],
   "source": [
    "b = houses.corr(method='spearman')\n"
   ]
  },
  {
   "cell_type": "markdown",
   "id": "5fb089fd",
   "metadata": {},
   "source": [
    "## Municipality"
   ]
  },
  {
   "cell_type": "code",
   "execution_count": 356,
   "id": "a7b574f7",
   "metadata": {},
   "outputs": [],
   "source": [
    "houses = houses.rename(columns={\"Tenement building\" : \"Municipality\"})\n",
    "mylist = []\n",
    "\n",
    "for elem in houses[\"url address\"]:\n",
    "    name = elem.split(\"/\")\n",
    "    mylist.append(name[7])\n",
    "\n",
    "houses[\"Municipality\"] = mylist"
   ]
  },
  {
   "cell_type": "code",
   "execution_count": 357,
   "id": "9e33ca05",
   "metadata": {},
   "outputs": [
    {
     "data": {
      "text/plain": [
       "0              haren-(bru.)\n",
       "3      woluwe-saint-lambert\n",
       "4                    forest\n",
       "5                   ixelles\n",
       "6                     evere\n",
       "               ...         \n",
       "469          geraardsbergen\n",
       "486            sint-niklaas\n",
       "489                    gent\n",
       "491                oostende\n",
       "492                  aalter\n",
       "Name: Municipality, Length: 8747, dtype: object"
      ]
     },
     "execution_count": 357,
     "metadata": {},
     "output_type": "execute_result"
    }
   ],
   "source": [
    "houses['Municipality']"
   ]
  },
  {
   "cell_type": "markdown",
   "id": "9bf783c0",
   "metadata": {},
   "source": [
    "### Changing the datatype of Post code"
   ]
  },
  {
   "cell_type": "code",
   "execution_count": 358,
   "id": "abfeabed",
   "metadata": {},
   "outputs": [],
   "source": [
    "houses['Post code'] = houses['Post code'].astype(int)"
   ]
  },
  {
   "cell_type": "code",
   "execution_count": 359,
   "id": "b5e30df0",
   "metadata": {},
   "outputs": [],
   "source": [
    "houses = houses.rename(columns={\"Heating type\":\"Region\"})\n",
    "for x in houses:\n",
    "    if x == \"Post code\":\n",
    "        for code in houses[x]:\n",
    "            if code >= 9000 and code <= 9999:\n",
    "                houses.loc[houses[\"Post code\"] == code, \"Region\"] = \"Flanders\"\n",
    "            if code >= 1000 and code <= 1299:\n",
    "                houses.loc[houses[\"Post code\"] == code, \"Region\"] = \"Brussels\"\n",
    "            if code >= 1300 and code <= 1499:\n",
    "                houses.loc[houses[\"Post code\"] == code, \"Region\"] = \"Wallonia\"\n",
    "            if code >= 1500 and code <= 1999:\n",
    "                houses.loc[houses[\"Post code\"] == code, \"Region\"] = \"Flanders\"\n",
    "            if code >= 2000 and code <= 2999:\n",
    "                houses.loc[houses[\"Post code\"] == code, \"Region\"] = \"Flanders\"\n",
    "            if code >= 3000 and code <= 3499:\n",
    "                houses.loc[houses[\"Post code\"] == code, \"Region\"] = \"Flanders\"\n",
    "            if code >= 3500 and code <= 3999:\n",
    "                houses.loc[houses[\"Post code\"] == code, \"Region\"] = \"Flanders\"\n",
    "            if code >= 4000 and code <= 4999:\n",
    "                houses.loc[houses[\"Post code\"] == code, \"Region\"] = \"Wallonia\"\n",
    "            if code >= 5000 and code <= 5999:\n",
    "                houses.loc[houses[\"Post code\"] == code, \"Region\"] = \"Wallonia\"\n",
    "            if code >= 6000 and code <= 6599:\n",
    "                houses.loc[houses[\"Post code\"] == code, \"Region\"] = \"Wallonia\"\n",
    "            if code >= 6600 and code <= 6999:\n",
    "                houses.loc[houses[\"Post code\"] == code, \"Region\"] = \"Wallonia\"\n",
    "            if code >= 7000 and code <= 7999:\n",
    "                houses.loc[houses[\"Post code\"] == code, \"Region\"] = \"Wallonia\"\n",
    "            if code >= 8000 and code <= 8999:\n",
    "                houses.loc[houses[\"Post code\"] == code, \"Region\"] = \"Flanders\"\n",
    "            if code >= 9000 and code <= 9999:\n",
    "                houses.loc[houses[\"Post code\"] == code, \"Region\"] = \"Flanders\""
   ]
  },
  {
   "cell_type": "code",
   "execution_count": 360,
   "id": "a07191a0",
   "metadata": {},
   "outputs": [
    {
     "data": {
      "image/png": "[encoded data removed]",
      "text/plain": [
       "<Figure size 432x288 with 1 Axes>"
      ]
     },
     "metadata": {},
     "output_type": "display_data"
    }
   ],
   "source": [
    "x = houses['Region']\n",
    "y = houses['Eur/m2']\n",
    "plt.scatter(x, y, c='purple')\n",
    "plt.xlabel('Region')\n",
    "plt.ylabel('Price per m2')\n",
    "plt.title('Region vs Eur/m2')\n",
    "plt.show()"
   ]
  },
  {
   "cell_type": "code",
   "execution_count": 361,
   "id": "d6357cff",
   "metadata": {},
   "outputs": [
    {
     "data": {
      "text/plain": [
       "8747"
      ]
     },
     "execution_count": 361,
     "metadata": {},
     "output_type": "execute_result"
    }
   ],
   "source": [
    "houses['Immoweb ID'].count()\n",
    "\n"
   ]
  },
  {
   "cell_type": "code",
   "execution_count": 362,
   "id": "58582c8e",
   "metadata": {},
   "outputs": [
    {
     "data": {
      "text/plain": [
       "0      Brussels\n",
       "3      Brussels\n",
       "4      Brussels\n",
       "5      Brussels\n",
       "6      Brussels\n",
       "         ...   \n",
       "469    Flanders\n",
       "486    Flanders\n",
       "489    Flanders\n",
       "491    Flanders\n",
       "492    Flanders\n",
       "Name: Region, Length: 8747, dtype: object"
      ]
     },
     "execution_count": 362,
     "metadata": {},
     "output_type": "execute_result"
    }
   ],
   "source": [
    "houses['Region']\n"
   ]
  },
  {
   "cell_type": "code",
   "execution_count": 363,
   "id": "7ae362ce",
   "metadata": {},
   "outputs": [],
   "source": [
    "houses = houses[['Immoweb ID', 'Property type', 'property sub-type', 'Price', 'Extra', 'Post code', 'Construction year', 'Municipality', 'Region']] \n"
   ]
  },
  {
   "cell_type": "code",
   "execution_count": 364,
   "id": "61cc6612",
   "metadata": {},
   "outputs": [
    {
     "data": {
      "text/html": [
       "<div>\n",
       "<style scoped>\n",
       "    .dataframe tbody tr th:only-of-type {\n",
       "        vertical-align: middle;\n",
       "    }\n",
       "\n",
       "    .dataframe tbody tr th {\n",
       "        vertical-align: top;\n",
       "    }\n",
       "\n",
       "    .dataframe thead th {\n",
       "        text-align: right;\n",
       "    }\n",
       "</style>\n",
       "<table border=\"1\" class=\"dataframe\">\n",
       "  <thead>\n",
       "    <tr style=\"text-align: right;\">\n",
       "      <th></th>\n",
       "      <th>Immoweb ID</th>\n",
       "      <th>Property type</th>\n",
       "      <th>property sub-type</th>\n",
       "      <th>Price</th>\n",
       "      <th>Extra</th>\n",
       "      <th>Post code</th>\n",
       "      <th>Construction year</th>\n",
       "      <th>Municipality</th>\n",
       "      <th>Region</th>\n",
       "    </tr>\n",
       "  </thead>\n",
       "  <tbody>\n",
       "    <tr>\n",
       "      <th>0</th>\n",
       "      <td>9739983</td>\n",
       "      <td>1</td>\n",
       "      <td>PENTHOUSE</td>\n",
       "      <td>476000</td>\n",
       "      <td>NaN</td>\n",
       "      <td>1130</td>\n",
       "      <td>2017</td>\n",
       "      <td>haren-(bru.)</td>\n",
       "      <td>Brussels</td>\n",
       "    </tr>\n",
       "    <tr>\n",
       "      <th>3</th>\n",
       "      <td>9737424</td>\n",
       "      <td>1</td>\n",
       "      <td>PENTHOUSE</td>\n",
       "      <td>399000</td>\n",
       "      <td>NaN</td>\n",
       "      <td>1200</td>\n",
       "      <td>1992</td>\n",
       "      <td>woluwe-saint-lambert</td>\n",
       "      <td>Brussels</td>\n",
       "    </tr>\n",
       "    <tr>\n",
       "      <th>4</th>\n",
       "      <td>9737272</td>\n",
       "      <td>1</td>\n",
       "      <td>PENTHOUSE</td>\n",
       "      <td>499000</td>\n",
       "      <td>NaN</td>\n",
       "      <td>1190</td>\n",
       "      <td>2018</td>\n",
       "      <td>forest</td>\n",
       "      <td>Brussels</td>\n",
       "    </tr>\n",
       "    <tr>\n",
       "      <th>5</th>\n",
       "      <td>9737235</td>\n",
       "      <td>1</td>\n",
       "      <td>PENTHOUSE</td>\n",
       "      <td>1495000</td>\n",
       "      <td>NaN</td>\n",
       "      <td>1050</td>\n",
       "      <td>2019</td>\n",
       "      <td>ixelles</td>\n",
       "      <td>Brussels</td>\n",
       "    </tr>\n",
       "    <tr>\n",
       "      <th>6</th>\n",
       "      <td>9729720</td>\n",
       "      <td>1</td>\n",
       "      <td>PENTHOUSE</td>\n",
       "      <td>179000</td>\n",
       "      <td>NaN</td>\n",
       "      <td>1140</td>\n",
       "      <td>1970</td>\n",
       "      <td>evere</td>\n",
       "      <td>Brussels</td>\n",
       "    </tr>\n",
       "  </tbody>\n",
       "</table>\n",
       "</div>"
      ],
      "text/plain": [
       "  Immoweb ID  Property type property sub-type    Price  Extra  Post code  \\\n",
       "0    9739983              1         PENTHOUSE   476000    NaN       1130   \n",
       "3    9737424              1         PENTHOUSE   399000    NaN       1200   \n",
       "4    9737272              1         PENTHOUSE   499000    NaN       1190   \n",
       "5    9737235              1         PENTHOUSE  1495000    NaN       1050   \n",
       "6    9729720              1         PENTHOUSE   179000    NaN       1140   \n",
       "\n",
       "  Construction year          Municipality    Region  \n",
       "0              2017          haren-(bru.)  Brussels  \n",
       "3              1992  woluwe-saint-lambert  Brussels  \n",
       "4              2018                forest  Brussels  \n",
       "5              2019               ixelles  Brussels  \n",
       "6              1970                 evere  Brussels  "
      ]
     },
     "execution_count": 364,
     "metadata": {},
     "output_type": "execute_result"
    }
   ],
   "source": [
    "houses.head()"
   ]
  },
  {
   "cell_type": "code",
   "execution_count": 378,
   "id": "3a59f52c",
   "metadata": {},
   "outputs": [
    {
     "ename": "FileNotFoundError",
     "evalue": "[Errno 2] No such file or directory: './final_data/clean_house_data.csv'",
     "output_type": "error",
     "traceback": [
      "\u001b[0;31m---------------------------------------------------------------------------\u001b[0m",
      "\u001b[0;31mFileNotFoundError\u001b[0m                         Traceback (most recent call last)",
      "\u001b[0;32m/var/folders/6r/0sxxkqln2g73tp73l2p7xx200000gn/T/ipykernel_1982/468185676.py\u001b[0m in \u001b[0;36m<module>\u001b[0;34m\u001b[0m\n\u001b[0;32m----> 1\u001b[0;31m \u001b[0mhouses\u001b[0m\u001b[0;34m.\u001b[0m\u001b[0mto_csv\u001b[0m\u001b[0;34m(\u001b[0m\u001b[0;34m'./final_data/clean_house_data.csv'\u001b[0m\u001b[0;34m)\u001b[0m\u001b[0;34m\u001b[0m\u001b[0;34m\u001b[0m\u001b[0m\n\u001b[0m",
      "\u001b[0;32m~/opt/anaconda3/lib/python3.9/site-packages/pandas/core/generic.py\u001b[0m in \u001b[0;36mto_csv\u001b[0;34m(self, path_or_buf, sep, na_rep, float_format, columns, header, index, index_label, mode, encoding, compression, quoting, quotechar, line_terminator, chunksize, date_format, doublequote, escapechar, decimal, errors, storage_options)\u001b[0m\n\u001b[1;32m   3464\u001b[0m         )\n\u001b[1;32m   3465\u001b[0m \u001b[0;34m\u001b[0m\u001b[0m\n\u001b[0;32m-> 3466\u001b[0;31m         return DataFrameRenderer(formatter).to_csv(\n\u001b[0m\u001b[1;32m   3467\u001b[0m             \u001b[0mpath_or_buf\u001b[0m\u001b[0;34m,\u001b[0m\u001b[0;34m\u001b[0m\u001b[0;34m\u001b[0m\u001b[0m\n\u001b[1;32m   3468\u001b[0m             \u001b[0mline_terminator\u001b[0m\u001b[0;34m=\u001b[0m\u001b[0mline_terminator\u001b[0m\u001b[0;34m,\u001b[0m\u001b[0;34m\u001b[0m\u001b[0;34m\u001b[0m\u001b[0m\n",
      "\u001b[0;32m~/opt/anaconda3/lib/python3.9/site-packages/pandas/io/formats/format.py\u001b[0m in \u001b[0;36mto_csv\u001b[0;34m(self, path_or_buf, encoding, sep, columns, index_label, mode, compression, quoting, quotechar, line_terminator, chunksize, date_format, doublequote, escapechar, errors, storage_options)\u001b[0m\n\u001b[1;32m   1103\u001b[0m             \u001b[0mformatter\u001b[0m\u001b[0;34m=\u001b[0m\u001b[0mself\u001b[0m\u001b[0;34m.\u001b[0m\u001b[0mfmt\u001b[0m\u001b[0;34m,\u001b[0m\u001b[0;34m\u001b[0m\u001b[0;34m\u001b[0m\u001b[0m\n\u001b[1;32m   1104\u001b[0m         )\n\u001b[0;32m-> 1105\u001b[0;31m         \u001b[0mcsv_formatter\u001b[0m\u001b[0;34m.\u001b[0m\u001b[0msave\u001b[0m\u001b[0;34m(\u001b[0m\u001b[0;34m)\u001b[0m\u001b[0;34m\u001b[0m\u001b[0;34m\u001b[0m\u001b[0m\n\u001b[0m\u001b[1;32m   1106\u001b[0m \u001b[0;34m\u001b[0m\u001b[0m\n\u001b[1;32m   1107\u001b[0m         \u001b[0;32mif\u001b[0m \u001b[0mcreated_buffer\u001b[0m\u001b[0;34m:\u001b[0m\u001b[0;34m\u001b[0m\u001b[0;34m\u001b[0m\u001b[0m\n",
      "\u001b[0;32m~/opt/anaconda3/lib/python3.9/site-packages/pandas/io/formats/csvs.py\u001b[0m in \u001b[0;36msave\u001b[0;34m(self)\u001b[0m\n\u001b[1;32m    235\u001b[0m         \"\"\"\n\u001b[1;32m    236\u001b[0m         \u001b[0;31m# apply compression and byte/text conversion\u001b[0m\u001b[0;34m\u001b[0m\u001b[0;34m\u001b[0m\u001b[0m\n\u001b[0;32m--> 237\u001b[0;31m         with get_handle(\n\u001b[0m\u001b[1;32m    238\u001b[0m             \u001b[0mself\u001b[0m\u001b[0;34m.\u001b[0m\u001b[0mfilepath_or_buffer\u001b[0m\u001b[0;34m,\u001b[0m\u001b[0;34m\u001b[0m\u001b[0;34m\u001b[0m\u001b[0m\n\u001b[1;32m    239\u001b[0m             \u001b[0mself\u001b[0m\u001b[0;34m.\u001b[0m\u001b[0mmode\u001b[0m\u001b[0;34m,\u001b[0m\u001b[0;34m\u001b[0m\u001b[0;34m\u001b[0m\u001b[0m\n",
      "\u001b[0;32m~/opt/anaconda3/lib/python3.9/site-packages/pandas/io/common.py\u001b[0m in \u001b[0;36mget_handle\u001b[0;34m(path_or_buf, mode, encoding, compression, memory_map, is_text, errors, storage_options)\u001b[0m\n\u001b[1;32m    700\u001b[0m         \u001b[0;32mif\u001b[0m \u001b[0mioargs\u001b[0m\u001b[0;34m.\u001b[0m\u001b[0mencoding\u001b[0m \u001b[0;32mand\u001b[0m \u001b[0;34m\"b\"\u001b[0m \u001b[0;32mnot\u001b[0m \u001b[0;32min\u001b[0m \u001b[0mioargs\u001b[0m\u001b[0;34m.\u001b[0m\u001b[0mmode\u001b[0m\u001b[0;34m:\u001b[0m\u001b[0;34m\u001b[0m\u001b[0;34m\u001b[0m\u001b[0m\n\u001b[1;32m    701\u001b[0m             \u001b[0;31m# Encoding\u001b[0m\u001b[0;34m\u001b[0m\u001b[0;34m\u001b[0m\u001b[0m\n\u001b[0;32m--> 702\u001b[0;31m             handle = open(\n\u001b[0m\u001b[1;32m    703\u001b[0m                 \u001b[0mhandle\u001b[0m\u001b[0;34m,\u001b[0m\u001b[0;34m\u001b[0m\u001b[0;34m\u001b[0m\u001b[0m\n\u001b[1;32m    704\u001b[0m                 \u001b[0mioargs\u001b[0m\u001b[0;34m.\u001b[0m\u001b[0mmode\u001b[0m\u001b[0;34m,\u001b[0m\u001b[0;34m\u001b[0m\u001b[0;34m\u001b[0m\u001b[0m\n",
      "\u001b[0;31mFileNotFoundError\u001b[0m: [Errno 2] No such file or directory: './final_data/clean_house_data.csv'"
     ]
    }
   ],
   "source": [
    "  \n",
    "houses.to_csv('./data/clean_house_data.csv')\n",
    "\n"
   ]
  }
 ],
 "metadata": {
  "interpreter": {
   "hash": "edcf0e90d66bb1b7c2ba8f102df394780f53fc7b2ebe9d09583afa653c778b2a"
  },
  "kernelspec": {
   "display_name": "Python 3 (ipykernel)",
   "language": "python",
   "name": "python3"
  },
  "language_info": {
   "codemirror_mode": {
    "name": "ipython",
    "version": 3
   },
   "file_extension": ".py",
   "mimetype": "text/x-python",
   "name": "python",
   "nbconvert_exporter": "python",
   "pygments_lexer": "ipython3",
   "version": "3.9.7"
  }
 },
 "nbformat": 4,
 "nbformat_minor": 5
}
